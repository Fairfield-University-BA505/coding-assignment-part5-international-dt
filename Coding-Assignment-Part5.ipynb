{
 "cells": [
  {
   "cell_type": "markdown",
   "metadata": {},
   "source": [
    "# A Larger Dataset from Scratch\n",
    "\n",
    "Created by Dr. Jie Tao, ver. 0.1\n",
    "\n",
    "## What you need to know in this part\n",
    "We are putting things together we learned in this course, and some other courses together. Specifically, these knowledge elements include:\n",
    "- Pandas \n",
    "    - DataFrame Operations\n",
    "    - Plotting\n",
    "- Markdown\n",
    "    - Express your analytical ideas\n",
    "    - Explain your analysis\n",
    "- Basic Descriptive Analysis from QA500\n",
    "- Analytics Pipeline from BA500\n",
    "\n",
    "## What you can do in this part\n",
    "After completing this part, you should be able to:\n",
    "- Create and lay out a new Jupyter Notebook\n",
    "- Collaborate with your peers using Git/Github\n",
    "- Use Pandas to load and manipulate a large dataset\n",
    "- Use Dataframe operations to analyze the data\n",
    "- Use Pandas plotting to plot key statistics"
   ]
  },
  {
   "cell_type": "markdown",
   "metadata": {},
   "source": [
    "## Step 0: Work with Your Final Group \n",
    "Consider this part as the final tryout for the final projects, in a __much smaller__ scale. You should work with the same group of people as the final project.\n",
    "\n",
    "## Step 1: Study Your Data\n",
    "The sinking of the Titanic is one of the most infamous shipwrecks in history.\n",
    "\n",
    "On April 15, 1912, during her maiden voyage, the widely considered “unsinkable” RMS Titanic sank after colliding with an iceberg. Unfortunately, there weren’t enough lifeboats for everyone onboard, resulting in the death of 1502 out of 2224 passengers and crew.\n",
    "\n",
    "While there was some element of luck involved in surviving, it seems some groups of people were more likely to survive than others.\n",
    "\n",
    "Here is a data dictionary you can use to understand your data, which is available [here](https://www.kaggle.com/c/titanic/data) as well.\n",
    "\n",
    "| Feature Name | Definition | Key |\n",
    "| ------------ | ---------- | --- |\n",
    "| survival | _Passenger survived or not_ | __0 = No, 1 = Yes__ |\n",
    "| pclass | _Ticket Class_ | __1 = 1st, 2 = 2nd, 3 = 3rd__ |\n",
    "| name | _Name of the passenger_ | ... | \n",
    "| sex | _Gender of the passenger_ | __male, female__ |\n",
    "| age | _Age in Years_ | ... |\n",
    "| sibsp | _# of siblings / spouses aboard the Titanic_ | ... |\n",
    "| parch | _# of parents / children aboard the Titanic_ | ... |\n",
    "| ticket | _Ticket number_ | ... |\n",
    "| fare | _Passenger fare paid_ | ... |\n",
    "| cabin | _Cabin number_ | ... |\n",
    "| embarked | _Port of Embarkation_ | __C = Cherbourg, Q = Queenstown, S = Southampton__ |\n",
    "\n",
    "There are some additional notes for these variables that maybe helpful:\n",
    "\n",
    "- __pclass__: A proxy for socio-economic status (SES)\n",
    "    - 1st = Upper\n",
    "    - 2nd = Middle\n",
    "    - 3rd = Lower\n",
    "\n",
    "- __age__: Age is fractional if less than 1. If the age is estimated, it is in the form of xx.5\n",
    "\n",
    "- __sibsp__: This feature defines family relations in this way...\n",
    "    - Sibling = brother, sister, stepbrother, stepsister\n",
    "    - Spouse = husband, wife (mistresses and fiancés were ignored)\n",
    "\n",
    "- __parch__: This feature defines family relations in this way...\n",
    "    - Parent = mother, father\n",
    "    - Child = daughter, son, stepdaughter, stepson\n",
    "    - Some children travelled only with a nanny, therefore parch=0 for them."
   ]
  },
  {
   "cell_type": "markdown",
   "metadata": {},
   "source": [
    "### YOUR TURN HERE\n",
    "Write a short paragraph here to explain how do you plan to use the data. Specifically, you need to come up with at least 2 _interesting_ __analytical questions__. Also, include a _third_ analytical question for __next steps__ (things you can not do now but plan to do in the future, maybe due to the limitations of time/data/technique). Do not forget mention __how other people should care about your analysis__.\n",
    "\n",
    "Here are some example questions:\n",
    "1. Do wemen have a better chance to survive?\n",
    "2. Do 1st-class passengers have a better chance to survive?\n",
    "\n",
    "Please do not use these questions directly, come up with something new.\n",
    "\n",
    "__NOTE:__ you should follow the same structure for your final project.\n",
    "\n",
    "__Your Analytical Questions below: __\n"
   ]
  },
  {
   "cell_type": "markdown",
   "metadata": {},
   "source": [
    "Secondly, the `titanic.csv` file contains all the data you need to use. Let's first load the data in. The DataFrame holding the data should be named as `source_data`."
   ]
  },
  {
   "cell_type": "code",
   "execution_count": 53,
   "metadata": {
    "collapsed": true
   },
   "outputs": [],
   "source": [
    "# DO NOT CHANGE THIS CODE BLOCK\n",
    "import pandas as pd\n",
    "import matplotlib.pylab as plt\n",
    "%matplotlib inline\n",
    "plt.style.use('fivethirtyeight')"
   ]
  },
  {
   "cell_type": "markdown",
   "metadata": {},
   "source": [
    "### Load the Data\n",
    "Hint - you may want to set `PassengerId` as the index of the DataFrame, you can do above by using the `index_col=` argument in `pd.read_csv`."
   ]
  },
  {
   "cell_type": "code",
   "execution_count": 54,
   "metadata": {
    "collapsed": false
   },
   "outputs": [
    {
     "data": {
      "text/html": [
       "<div>\n",
       "<style scoped>\n",
       "    .dataframe tbody tr th:only-of-type {\n",
       "        vertical-align: middle;\n",
       "    }\n",
       "\n",
       "    .dataframe tbody tr th {\n",
       "        vertical-align: top;\n",
       "    }\n",
       "\n",
       "    .dataframe thead th {\n",
       "        text-align: right;\n",
       "    }\n",
       "</style>\n",
       "<table border=\"1\" class=\"dataframe\">\n",
       "  <thead>\n",
       "    <tr style=\"text-align: right;\">\n",
       "      <th></th>\n",
       "      <th>Survived</th>\n",
       "      <th>Pclass</th>\n",
       "      <th>Name</th>\n",
       "      <th>Sex</th>\n",
       "      <th>Age</th>\n",
       "      <th>SibSp</th>\n",
       "      <th>Parch</th>\n",
       "      <th>Ticket</th>\n",
       "      <th>Fare</th>\n",
       "      <th>Cabin</th>\n",
       "      <th>Embarked</th>\n",
       "    </tr>\n",
       "    <tr>\n",
       "      <th>PassengerId</th>\n",
       "      <th></th>\n",
       "      <th></th>\n",
       "      <th></th>\n",
       "      <th></th>\n",
       "      <th></th>\n",
       "      <th></th>\n",
       "      <th></th>\n",
       "      <th></th>\n",
       "      <th></th>\n",
       "      <th></th>\n",
       "      <th></th>\n",
       "    </tr>\n",
       "  </thead>\n",
       "  <tbody>\n",
       "    <tr>\n",
       "      <th>1</th>\n",
       "      <td>0</td>\n",
       "      <td>3</td>\n",
       "      <td>Braund, Mr. Owen Harris</td>\n",
       "      <td>male</td>\n",
       "      <td>22.0</td>\n",
       "      <td>1</td>\n",
       "      <td>0</td>\n",
       "      <td>A/5 21171</td>\n",
       "      <td>7.2500</td>\n",
       "      <td>NaN</td>\n",
       "      <td>S</td>\n",
       "    </tr>\n",
       "    <tr>\n",
       "      <th>2</th>\n",
       "      <td>1</td>\n",
       "      <td>1</td>\n",
       "      <td>Cumings, Mrs. John Bradley (Florence Briggs Th...</td>\n",
       "      <td>female</td>\n",
       "      <td>38.0</td>\n",
       "      <td>1</td>\n",
       "      <td>0</td>\n",
       "      <td>PC 17599</td>\n",
       "      <td>71.2833</td>\n",
       "      <td>C85</td>\n",
       "      <td>C</td>\n",
       "    </tr>\n",
       "    <tr>\n",
       "      <th>3</th>\n",
       "      <td>1</td>\n",
       "      <td>3</td>\n",
       "      <td>Heikkinen, Miss. Laina</td>\n",
       "      <td>female</td>\n",
       "      <td>26.0</td>\n",
       "      <td>0</td>\n",
       "      <td>0</td>\n",
       "      <td>STON/O2. 3101282</td>\n",
       "      <td>7.9250</td>\n",
       "      <td>NaN</td>\n",
       "      <td>S</td>\n",
       "    </tr>\n",
       "    <tr>\n",
       "      <th>4</th>\n",
       "      <td>1</td>\n",
       "      <td>1</td>\n",
       "      <td>Futrelle, Mrs. Jacques Heath (Lily May Peel)</td>\n",
       "      <td>female</td>\n",
       "      <td>35.0</td>\n",
       "      <td>1</td>\n",
       "      <td>0</td>\n",
       "      <td>113803</td>\n",
       "      <td>53.1000</td>\n",
       "      <td>C123</td>\n",
       "      <td>S</td>\n",
       "    </tr>\n",
       "    <tr>\n",
       "      <th>5</th>\n",
       "      <td>0</td>\n",
       "      <td>3</td>\n",
       "      <td>Allen, Mr. William Henry</td>\n",
       "      <td>male</td>\n",
       "      <td>35.0</td>\n",
       "      <td>0</td>\n",
       "      <td>0</td>\n",
       "      <td>373450</td>\n",
       "      <td>8.0500</td>\n",
       "      <td>NaN</td>\n",
       "      <td>S</td>\n",
       "    </tr>\n",
       "    <tr>\n",
       "      <th>6</th>\n",
       "      <td>0</td>\n",
       "      <td>3</td>\n",
       "      <td>Moran, Mr. James</td>\n",
       "      <td>male</td>\n",
       "      <td>NaN</td>\n",
       "      <td>0</td>\n",
       "      <td>0</td>\n",
       "      <td>330877</td>\n",
       "      <td>8.4583</td>\n",
       "      <td>NaN</td>\n",
       "      <td>Q</td>\n",
       "    </tr>\n",
       "    <tr>\n",
       "      <th>7</th>\n",
       "      <td>0</td>\n",
       "      <td>1</td>\n",
       "      <td>McCarthy, Mr. Timothy J</td>\n",
       "      <td>male</td>\n",
       "      <td>54.0</td>\n",
       "      <td>0</td>\n",
       "      <td>0</td>\n",
       "      <td>17463</td>\n",
       "      <td>51.8625</td>\n",
       "      <td>E46</td>\n",
       "      <td>S</td>\n",
       "    </tr>\n",
       "    <tr>\n",
       "      <th>8</th>\n",
       "      <td>0</td>\n",
       "      <td>3</td>\n",
       "      <td>Palsson, Master. Gosta Leonard</td>\n",
       "      <td>male</td>\n",
       "      <td>2.0</td>\n",
       "      <td>3</td>\n",
       "      <td>1</td>\n",
       "      <td>349909</td>\n",
       "      <td>21.0750</td>\n",
       "      <td>NaN</td>\n",
       "      <td>S</td>\n",
       "    </tr>\n",
       "    <tr>\n",
       "      <th>9</th>\n",
       "      <td>1</td>\n",
       "      <td>3</td>\n",
       "      <td>Johnson, Mrs. Oscar W (Elisabeth Vilhelmina Berg)</td>\n",
       "      <td>female</td>\n",
       "      <td>27.0</td>\n",
       "      <td>0</td>\n",
       "      <td>2</td>\n",
       "      <td>347742</td>\n",
       "      <td>11.1333</td>\n",
       "      <td>NaN</td>\n",
       "      <td>S</td>\n",
       "    </tr>\n",
       "    <tr>\n",
       "      <th>10</th>\n",
       "      <td>1</td>\n",
       "      <td>2</td>\n",
       "      <td>Nasser, Mrs. Nicholas (Adele Achem)</td>\n",
       "      <td>female</td>\n",
       "      <td>14.0</td>\n",
       "      <td>1</td>\n",
       "      <td>0</td>\n",
       "      <td>237736</td>\n",
       "      <td>30.0708</td>\n",
       "      <td>NaN</td>\n",
       "      <td>C</td>\n",
       "    </tr>\n",
       "  </tbody>\n",
       "</table>\n",
       "</div>"
      ],
      "text/plain": [
       "             Survived  Pclass  \\\n",
       "PassengerId                     \n",
       "1                   0       3   \n",
       "2                   1       1   \n",
       "3                   1       3   \n",
       "4                   1       1   \n",
       "5                   0       3   \n",
       "6                   0       3   \n",
       "7                   0       1   \n",
       "8                   0       3   \n",
       "9                   1       3   \n",
       "10                  1       2   \n",
       "\n",
       "                                                          Name     Sex   Age  \\\n",
       "PassengerId                                                                    \n",
       "1                                      Braund, Mr. Owen Harris    male  22.0   \n",
       "2            Cumings, Mrs. John Bradley (Florence Briggs Th...  female  38.0   \n",
       "3                                       Heikkinen, Miss. Laina  female  26.0   \n",
       "4                 Futrelle, Mrs. Jacques Heath (Lily May Peel)  female  35.0   \n",
       "5                                     Allen, Mr. William Henry    male  35.0   \n",
       "6                                             Moran, Mr. James    male   NaN   \n",
       "7                                      McCarthy, Mr. Timothy J    male  54.0   \n",
       "8                               Palsson, Master. Gosta Leonard    male   2.0   \n",
       "9            Johnson, Mrs. Oscar W (Elisabeth Vilhelmina Berg)  female  27.0   \n",
       "10                         Nasser, Mrs. Nicholas (Adele Achem)  female  14.0   \n",
       "\n",
       "             SibSp  Parch            Ticket     Fare Cabin Embarked  \n",
       "PassengerId                                                          \n",
       "1                1      0         A/5 21171   7.2500   NaN        S  \n",
       "2                1      0          PC 17599  71.2833   C85        C  \n",
       "3                0      0  STON/O2. 3101282   7.9250   NaN        S  \n",
       "4                1      0            113803  53.1000  C123        S  \n",
       "5                0      0            373450   8.0500   NaN        S  \n",
       "6                0      0            330877   8.4583   NaN        Q  \n",
       "7                0      0             17463  51.8625   E46        S  \n",
       "8                3      1            349909  21.0750   NaN        S  \n",
       "9                0      2            347742  11.1333   NaN        S  \n",
       "10               1      0            237736  30.0708   NaN        C  "
      ]
     },
     "execution_count": 54,
     "metadata": {},
     "output_type": "execute_result"
    }
   ],
   "source": [
    "# read in the csv file called 'titanic.csv' into a pandas' dataframe and call it 'source_data' whereby its index will be 'PassengerId' (n = 1, 2, 3....891)\n",
    "source_data = pd.read_csv('titanic.csv',index_col = 'PassengerId' )\n",
    "\n",
    "# display the first 10 rows of the dataframe 'source_data' which contains the titanic dataset\n",
    "source_data.head(10)"
   ]
  },
  {
   "cell_type": "markdown",
   "metadata": {},
   "source": [
    "### Take the first look at your data\n",
    "\n",
    "After loading your data, it is most important to see if the data is loaded as expected, you should at least look at _a few rows_ in `source_data`."
   ]
  },
  {
   "cell_type": "code",
   "execution_count": 55,
   "metadata": {
    "collapsed": false
   },
   "outputs": [
    {
     "name": "stdout",
     "output_type": "stream",
     "text": [
      "<class 'pandas.core.frame.DataFrame'>\n",
      "Int64Index: 891 entries, 1 to 891\n",
      "Data columns (total 11 columns):\n",
      "Survived    891 non-null int64\n",
      "Pclass      891 non-null int64\n",
      "Name        891 non-null object\n",
      "Sex         891 non-null object\n",
      "Age         714 non-null float64\n",
      "SibSp       891 non-null int64\n",
      "Parch       891 non-null int64\n",
      "Ticket      891 non-null object\n",
      "Fare        891 non-null float64\n",
      "Cabin       204 non-null object\n",
      "Embarked    889 non-null object\n",
      "dtypes: float64(2), int64(4), object(5)\n",
      "memory usage: 83.5+ KB\n"
     ]
    }
   ],
   "source": [
    "# Print a concise summary of the DataFrame 'source_data', including the index data types (dtype) and column data types (dtypes), non-null values and memory usage.\n",
    "# source: https://pandas.pydata.org/pandas-docs/stable/reference/api/pandas.DataFrame.info.html\n",
    "source_data.info()"
   ]
  },
  {
   "cell_type": "code",
   "execution_count": 56,
   "metadata": {},
   "outputs": [
    {
     "data": {
      "text/plain": [
       "Survived      0\n",
       "Pclass        0\n",
       "Name          0\n",
       "Sex           0\n",
       "Age         177\n",
       "SibSp         0\n",
       "Parch         0\n",
       "Ticket        0\n",
       "Fare          0\n",
       "Cabin       687\n",
       "Embarked      2\n",
       "dtype: int64"
      ]
     },
     "execution_count": 56,
     "metadata": {},
     "output_type": "execute_result"
    }
   ],
   "source": [
    "# show the sum of the missing values for each column in the Dataframe 'source_data'\n",
    "# More precisely: the sum of the boolean values of each element in the dataframe which are TRUE (TRUE=1, FALSE=0), when testing if the values are NA (TRUE => msising value, FALSE => non-missing value). \n",
    "# source: https://pandas.pydata.org/pandas-docs/stable/reference/api/pandas.DataFrame.isna.html\n",
    "source_data.isna().sum()"
   ]
  },
  {
   "cell_type": "markdown",
   "metadata": {},
   "source": [
    "You should also check how much data are your playing with, in terms of how many instances (rows) and features (columns)."
   ]
  },
  {
   "cell_type": "code",
   "execution_count": 57,
   "metadata": {
    "collapsed": false
   },
   "outputs": [
    {
     "data": {
      "text/plain": [
       "(891, 11)"
      ]
     },
     "execution_count": 57,
     "metadata": {},
     "output_type": "execute_result"
    }
   ],
   "source": [
    "# Return a tuple representing the dimensionality of the DataFrame 'source_data'.\n",
    "# source: https://pandas.pydata.org/pandas-docs/stable/reference/api/pandas.DataFrame.shape.html\n",
    "source_data.shape\n",
    "\n",
    "# Dimensions dataframe:\n",
    "# 891 rows\n",
    "# 11 columns"
   ]
  },
  {
   "cell_type": "markdown",
   "metadata": {},
   "source": [
    "### Determining how much data is missing\n",
    "The next step is to check how much data is missing - maybe show them in ratio?"
   ]
  },
  {
   "cell_type": "code",
   "execution_count": 58,
   "metadata": {
    "collapsed": false
   },
   "outputs": [
    {
     "data": {
      "text/plain": [
       "Survived     0.00\n",
       "Pclass       0.00\n",
       "Name         0.00\n",
       "Sex          0.00\n",
       "Age         19.87\n",
       "SibSp        0.00\n",
       "Parch        0.00\n",
       "Ticket       0.00\n",
       "Fare         0.00\n",
       "Cabin       77.10\n",
       "Embarked     0.22\n",
       "dtype: float64"
      ]
     },
     "execution_count": 58,
     "metadata": {},
     "output_type": "execute_result"
    }
   ],
   "source": [
    "# Show the amount of missing elements in each column as a ratio of the total number of elements in that column and calculate this for the entire dataframe called 'source_data', \n",
    "# rounded by the nearest 2 decimal points\n",
    "\n",
    "## 1st method:\n",
    "# by taking the average of all the TRUE values of which are missing (NA) multiplied by 100 to get the ratio in % of missing elements, \n",
    "# in other words: you take the sum of the TRUE values in each column (TRUE=1, FALSE=0) divided by the total number of elements of each column and multiplying by 100 to get the percentage of missing values -\n",
    "# rounded by nearest two decimal points\n",
    "(source_data.isna().mean() * 100).round(2)\n",
    "\n",
    "## 2nd method:\n",
    "#(source_data.isna().sum()/source_data.shape[0]*100).round(2)"
   ]
  },
  {
   "cell_type": "markdown",
   "metadata": {},
   "source": [
    "If a column/feature contains more than __50%__ missing, we will drop it in this analysis."
   ]
  },
  {
   "cell_type": "code",
   "execution_count": 59,
   "metadata": {},
   "outputs": [
    {
     "name": "stdout",
     "output_type": "stream",
     "text": [
      "(891, 10)\n"
     ]
    },
    {
     "data": {
      "text/plain": [
       "Index(['Survived', 'Pclass', 'Name', 'Sex', 'Age', 'SibSp', 'Parch', 'Ticket',\n",
       "       'Fare', 'Embarked'],\n",
       "      dtype='object')"
      ]
     },
     "execution_count": 59,
     "metadata": {},
     "output_type": "execute_result"
    }
   ],
   "source": [
    "# method 1\n",
    "# drop the columns which have at least 50% or more missing values (NA)\n",
    "# thresh means it requires that many non-NA values.\n",
    "# the threshhold is set to the length of the dataframe, which is 100% (of the number of rows) divided by 2, in order to get 50% (of the number of rows)\n",
    "# axis=1 means drop column(s) which contain missing values based on the threshold in this case.\n",
    "# source: https://pandas.pydata.org/pandas-docs/stable/reference/api/pandas.DataFrame.dropna.html\n",
    "source_data = source_data.dropna(thresh=len(source_data)/2, axis=1)\n",
    "\n",
    "# method 2\n",
    "#source_data = source_data.dropna(thresh=(df_titanic.shape[0]/2), axis=1, how='all')\n",
    "\n",
    "# test if the column is dropped, namely 'Cabin' with 77.10% missing which is larger than 50% by seeing that the columns are 10 now instead of 11\n",
    "print(source_data.shape)\n",
    "\n",
    "# test again by visually checking the column names left are excluding the column name 'Cabin'\n",
    "source_data.columns"
   ]
  },
  {
   "cell_type": "code",
   "execution_count": 135,
   "metadata": {},
   "outputs": [
    {
     "name": "stdout",
     "output_type": "stream",
     "text": [
      "Survived              0\n",
      "Pclass                0\n",
      "Name                  0\n",
      "Sex                   0\n",
      "Age                 177\n",
      "SibSp                 0\n",
      "Parch                 0\n",
      "Ticket                0\n",
      "Fare                  0\n",
      "Embarked              2\n",
      "Age_imputed           0\n",
      "Embarked_imputed      0\n",
      "dtype: int64\n",
      "*Note: the column 'Cabin' has been deleted from the dataframe\n"
     ]
    }
   ],
   "source": [
    "# show the number of missing values remaining for each column in the dataframe 'source_data' and inspect that the 'Cabin' column is indeed dropped\n",
    "print(source_data.isna().sum())\n",
    "\n",
    "# test if the column 'Cabin' is dropped with a try/except,\n",
    "# try to show the pandas series 'Cabin' (a single column), if this results in an error, than print the message to user that 'Cabin' has been deleted from the dataframe\n",
    "try:\n",
    "    source_data['Cabin']\n",
    "except:\n",
    "    print('*Note: the column \\'Cabin\\' has been deleted from the dataframe')"
   ]
  },
  {
   "cell_type": "code",
   "execution_count": 174,
   "metadata": {},
   "outputs": [
    {
     "name": "stdout",
     "output_type": "stream",
     "text": [
      "Index(['Age', 'Embarked'], dtype='object')\n"
     ]
    }
   ],
   "source": [
    "## Method 1 - Test code\n",
    "# Test which columns have (more than zero) >0 missing elements \n",
    "#criteria = (source_data.loc[:,:].isna().sum() > 0)\n",
    "# Show for which columns the condition holds True or False\n",
    "#print(criteria)\n",
    "\n",
    "## Method 2 - Test code\n",
    "# Test which columns have less than 50% missing AND more than 0% missing\n",
    "criteria = ((source_data.isna().mean() * 100).round(2) < 50) & ((source_data.isna().mean() * 100).round(2) > 0)\n",
    "\n",
    "# Show only the columns for which the following condition holds TRUE: <50% missing AND >0% missing elements\n",
    "# source: https://stackoverflow.com/questions/29281815/pandas-select-dataframe-columns-using-boolean\n",
    "print(source_data[criteria.index[criteria]].columns)"
   ]
  },
  {
   "cell_type": "markdown",
   "metadata": {},
   "source": [
    "If a column contains less that __50%__ missing, you shoud consider impute it.\n",
    "- If the feature is __continuous__, you should consider using the _mean/median_;\n",
    "- If it is __categorical__, you shoud consider using the _mode_.\n",
    "\n",
    "Create new columns for imputed features. For instance, if the original feature is named `x`, your imputed feature should be `x_imputed`."
   ]
  },
  {
   "cell_type": "code",
   "execution_count": 95,
   "metadata": {
    "collapsed": true
   },
   "outputs": [
    {
     "name": "stdout",
     "output_type": "stream",
     "text": [
      "mean of Age column:  29.69911764705882\n",
      "mode of Embarked column:  S\n"
     ]
    },
    {
     "data": {
      "text/html": [
       "<div>\n",
       "<style scoped>\n",
       "    .dataframe tbody tr th:only-of-type {\n",
       "        vertical-align: middle;\n",
       "    }\n",
       "\n",
       "    .dataframe tbody tr th {\n",
       "        vertical-align: top;\n",
       "    }\n",
       "\n",
       "    .dataframe thead th {\n",
       "        text-align: right;\n",
       "    }\n",
       "</style>\n",
       "<table border=\"1\" class=\"dataframe\">\n",
       "  <thead>\n",
       "    <tr style=\"text-align: right;\">\n",
       "      <th></th>\n",
       "      <th>Survived</th>\n",
       "      <th>Pclass</th>\n",
       "      <th>Name</th>\n",
       "      <th>Sex</th>\n",
       "      <th>Age</th>\n",
       "      <th>SibSp</th>\n",
       "      <th>Parch</th>\n",
       "      <th>Ticket</th>\n",
       "      <th>Fare</th>\n",
       "      <th>Embarked</th>\n",
       "      <th>Age_imputed</th>\n",
       "      <th>Embarked_imputed</th>\n",
       "    </tr>\n",
       "    <tr>\n",
       "      <th>PassengerId</th>\n",
       "      <th></th>\n",
       "      <th></th>\n",
       "      <th></th>\n",
       "      <th></th>\n",
       "      <th></th>\n",
       "      <th></th>\n",
       "      <th></th>\n",
       "      <th></th>\n",
       "      <th></th>\n",
       "      <th></th>\n",
       "      <th></th>\n",
       "      <th></th>\n",
       "    </tr>\n",
       "  </thead>\n",
       "  <tbody>\n",
       "    <tr>\n",
       "      <th>887</th>\n",
       "      <td>0</td>\n",
       "      <td>2</td>\n",
       "      <td>Montvila, Rev. Juozas</td>\n",
       "      <td>male</td>\n",
       "      <td>27.0</td>\n",
       "      <td>0</td>\n",
       "      <td>0</td>\n",
       "      <td>211536</td>\n",
       "      <td>13.00</td>\n",
       "      <td>S</td>\n",
       "      <td>27.0</td>\n",
       "      <td>S</td>\n",
       "    </tr>\n",
       "    <tr>\n",
       "      <th>888</th>\n",
       "      <td>1</td>\n",
       "      <td>1</td>\n",
       "      <td>Graham, Miss. Margaret Edith</td>\n",
       "      <td>female</td>\n",
       "      <td>19.0</td>\n",
       "      <td>0</td>\n",
       "      <td>0</td>\n",
       "      <td>112053</td>\n",
       "      <td>30.00</td>\n",
       "      <td>S</td>\n",
       "      <td>19.0</td>\n",
       "      <td>S</td>\n",
       "    </tr>\n",
       "    <tr>\n",
       "      <th>889</th>\n",
       "      <td>0</td>\n",
       "      <td>3</td>\n",
       "      <td>Johnston, Miss. Catherine Helen \"Carrie\"</td>\n",
       "      <td>female</td>\n",
       "      <td>NaN</td>\n",
       "      <td>1</td>\n",
       "      <td>2</td>\n",
       "      <td>W./C. 6607</td>\n",
       "      <td>23.45</td>\n",
       "      <td>S</td>\n",
       "      <td>29.7</td>\n",
       "      <td>S</td>\n",
       "    </tr>\n",
       "    <tr>\n",
       "      <th>890</th>\n",
       "      <td>1</td>\n",
       "      <td>1</td>\n",
       "      <td>Behr, Mr. Karl Howell</td>\n",
       "      <td>male</td>\n",
       "      <td>26.0</td>\n",
       "      <td>0</td>\n",
       "      <td>0</td>\n",
       "      <td>111369</td>\n",
       "      <td>30.00</td>\n",
       "      <td>C</td>\n",
       "      <td>26.0</td>\n",
       "      <td>C</td>\n",
       "    </tr>\n",
       "    <tr>\n",
       "      <th>891</th>\n",
       "      <td>0</td>\n",
       "      <td>3</td>\n",
       "      <td>Dooley, Mr. Patrick</td>\n",
       "      <td>male</td>\n",
       "      <td>32.0</td>\n",
       "      <td>0</td>\n",
       "      <td>0</td>\n",
       "      <td>370376</td>\n",
       "      <td>7.75</td>\n",
       "      <td>Q</td>\n",
       "      <td>32.0</td>\n",
       "      <td>Q</td>\n",
       "    </tr>\n",
       "  </tbody>\n",
       "</table>\n",
       "</div>"
      ],
      "text/plain": [
       "            Survived Pclass                                      Name     Sex  \\\n",
       "PassengerId                                                                     \n",
       "887                0      2                     Montvila, Rev. Juozas    male   \n",
       "888                1      1              Graham, Miss. Margaret Edith  female   \n",
       "889                0      3  Johnston, Miss. Catherine Helen \"Carrie\"  female   \n",
       "890                1      1                     Behr, Mr. Karl Howell    male   \n",
       "891                0      3                       Dooley, Mr. Patrick    male   \n",
       "\n",
       "              Age  SibSp  Parch      Ticket   Fare Embarked  Age_imputed  \\\n",
       "PassengerId                                                                \n",
       "887          27.0      0      0      211536  13.00        S         27.0   \n",
       "888          19.0      0      0      112053  30.00        S         19.0   \n",
       "889           NaN      1      2  W./C. 6607  23.45        S         29.7   \n",
       "890          26.0      0      0      111369  30.00        C         26.0   \n",
       "891          32.0      0      0      370376   7.75        Q         32.0   \n",
       "\n",
       "            Embarked_imputed  \n",
       "PassengerId                   \n",
       "887                        S  \n",
       "888                        S  \n",
       "889                        S  \n",
       "890                        C  \n",
       "891                        Q  "
      ]
     },
     "execution_count": 95,
     "metadata": {},
     "output_type": "execute_result"
    }
   ],
   "source": [
    "# for all the remaining columns which have less than 50% elements missing and more than 0% elements missing, \n",
    "# which are the columns 'Age' and 'Embarked' as seen in the previous code-block for the dataframe 'source_data'\n",
    "# we create new columns, named 'Age_umputed' and 'Embarked_imputed', whereby the elements that are missing will be replaced by the mean and the mode respectively\n",
    "source_data[\"Age_imputed\"] = source_data[\"Age\"].fillna(source_data[\"Age\"].mean()).round(2)\n",
    "source_data['Embarked_imputed'] = source_data['Embarked'].fillna(source_data['Embarked'].mode()[0])\n",
    "\n",
    "# show the mean of the 'Age' column\n",
    "print('mean of Age column: ', source_data['Age'].mean())\n",
    "# show the mode of the 'Embarked' column\n",
    "print('mode of Embarked column: ', source_data['Embarked'].mode()[0])\n",
    "\n",
    "## Test 1 - Visually\n",
    "# test previous code if the mean of the age column is replacing the former missing values (NaN) by visually inspecting the dataframe's last 5 rows\n",
    "# row 889 has a missing element (NaN) for the 'Age' column and 'Age_imputed' has the value of 29.7 in the same row, which is the same value as the calculated mean for the Age column\n",
    "# conclusion: the missing element in the of 'Age' is correctly replaced by the average of the age in the 'Age_imputed' column\n",
    "source_data.tail(5)"
   ]
  },
  {
   "cell_type": "code",
   "execution_count": 96,
   "metadata": {},
   "outputs": [
    {
     "name": "stdout",
     "output_type": "stream",
     "text": [
      "Survived              0\n",
      "Pclass                0\n",
      "Name                  0\n",
      "Sex                   0\n",
      "Age                 177\n",
      "SibSp                 0\n",
      "Parch                 0\n",
      "Ticket                0\n",
      "Fare                  0\n",
      "Embarked              2\n",
      "Age_imputed           0\n",
      "Embarked_imputed      0\n",
      "dtype: int64\n"
     ]
    },
    {
     "data": {
      "text/plain": [
       "Age_imputed         True\n",
       "Embarked_imputed    True\n",
       "dtype: bool"
      ]
     },
     "execution_count": 96,
     "metadata": {},
     "output_type": "execute_result"
    }
   ],
   "source": [
    "## Test 2 - Code\n",
    "# test previous code if 'Age_imputed' and 'Embarked_imputed' have indeed 0 missing values (NaN)\n",
    "# show the number of missing values for each column in the dataframe 'source_data'\n",
    "print(source_data.isna().sum())\n",
    "\n",
    "## Test 3 - Code / Boolean\n",
    "# test previous code with a boolean statement that both newly added columns 'Age_imputed' and 'Emarked_imputed' have 0 missing values (because we replaced them earlier with the mean and mode)\n",
    "source_data[['Age_imputed', 'Embarked_imputed']].isna().sum() == 0"
   ]
  },
  {
   "cell_type": "markdown",
   "metadata": {},
   "source": [
    "### Check your data types\n",
    "You should always check the data types after loading the data. First, check the data types (you can use `.dtypes` or `.info()`."
   ]
  },
  {
   "cell_type": "code",
   "execution_count": 103,
   "metadata": {
    "collapsed": false
   },
   "outputs": [
    {
     "data": {
      "text/plain": [
       "Survived            category\n",
       "Pclass              category\n",
       "Name                  object\n",
       "Sex                 category\n",
       "Age                  float64\n",
       "SibSp                  int64\n",
       "Parch                  int64\n",
       "Ticket                object\n",
       "Fare                 float64\n",
       "Embarked              object\n",
       "Age_imputed          float64\n",
       "Embarked_imputed      object\n",
       "dtype: object"
      ]
     },
     "execution_count": 103,
     "metadata": {},
     "output_type": "execute_result"
    }
   ],
   "source": [
    "## show the data types of each column in the pandas dataframe\n",
    "# method 1\n",
    "source_data.dtypes\n",
    "\n",
    "# method 2\n",
    "#source_data.info()"
   ]
  },
  {
   "cell_type": "markdown",
   "metadata": {},
   "source": [
    "If you see anything not correct above, you should fix it below. Otherwise, write a comment to yourself stating __all data types are correct__."
   ]
  },
  {
   "cell_type": "code",
   "execution_count": 65,
   "metadata": {
    "collapsed": true
   },
   "outputs": [
    {
     "name": "stdout",
     "output_type": "stream",
     "text": [
      "<class 'pandas.core.frame.DataFrame'>\n",
      "Int64Index: 891 entries, 1 to 891\n",
      "Data columns (total 12 columns):\n",
      "Survived            891 non-null category\n",
      "Pclass              891 non-null category\n",
      "Name                891 non-null object\n",
      "Sex                 891 non-null category\n",
      "Age                 714 non-null float64\n",
      "SibSp               891 non-null int64\n",
      "Parch               891 non-null int64\n",
      "Ticket              891 non-null object\n",
      "Fare                891 non-null float64\n",
      "Embarked            889 non-null object\n",
      "Age_imputed         891 non-null float64\n",
      "Embarked_imputed    891 non-null object\n",
      "dtypes: category(3), float64(3), int64(2), object(4)\n",
      "memory usage: 72.5+ KB\n"
     ]
    }
   ],
   "source": [
    "# all data types are correct except the 'Pclass', 'Sex' and 'Survived' columns which are categorical\n",
    "# that is why we change the dtype of each of these 3 in turn and overwrite the old data  (dtype)\n",
    "source_data['Pclass'] = source_data['Pclass'].astype('category')\n",
    "source_data['Sex'] = source_data['Sex'].astype('category')\n",
    "source_data['Survived'] = source_data['Survived'].astype('category')\n",
    "source_data.info()"
   ]
  },
  {
   "cell_type": "markdown",
   "metadata": {},
   "source": [
    "## Step 2: Descriptive Stats\n",
    "\n",
    "No matter what analytical questions you try to develop/answer, there are some basic statistical questions you need to answer. \n",
    "\n",
    "These descriptive statistical analysis can help you gain more insights about your data, to further/tweak your main analytical questions."
   ]
  },
  {
   "cell_type": "markdown",
   "metadata": {},
   "source": [
    "### Overall descriptive Stats\n",
    "\n",
    "For any DataFrame, we should consider look at the generic descriptive statistics, such as _mean_, _median_, _# of unique values_, _standard deviation_, ...\n",
    "\n",
    "`Pandas` provides a method for that."
   ]
  },
  {
   "cell_type": "code",
   "execution_count": 66,
   "metadata": {
    "collapsed": false
   },
   "outputs": [
    {
     "data": {
      "text/html": [
       "<div>\n",
       "<style scoped>\n",
       "    .dataframe tbody tr th:only-of-type {\n",
       "        vertical-align: middle;\n",
       "    }\n",
       "\n",
       "    .dataframe tbody tr th {\n",
       "        vertical-align: top;\n",
       "    }\n",
       "\n",
       "    .dataframe thead th {\n",
       "        text-align: right;\n",
       "    }\n",
       "</style>\n",
       "<table border=\"1\" class=\"dataframe\">\n",
       "  <thead>\n",
       "    <tr style=\"text-align: right;\">\n",
       "      <th></th>\n",
       "      <th>Age</th>\n",
       "      <th>SibSp</th>\n",
       "      <th>Parch</th>\n",
       "      <th>Fare</th>\n",
       "      <th>Age_imputed</th>\n",
       "    </tr>\n",
       "  </thead>\n",
       "  <tbody>\n",
       "    <tr>\n",
       "      <th>count</th>\n",
       "      <td>714.000000</td>\n",
       "      <td>891.000000</td>\n",
       "      <td>891.000000</td>\n",
       "      <td>891.000000</td>\n",
       "      <td>891.000000</td>\n",
       "    </tr>\n",
       "    <tr>\n",
       "      <th>mean</th>\n",
       "      <td>29.699118</td>\n",
       "      <td>0.523008</td>\n",
       "      <td>0.381594</td>\n",
       "      <td>32.204208</td>\n",
       "      <td>29.699293</td>\n",
       "    </tr>\n",
       "    <tr>\n",
       "      <th>std</th>\n",
       "      <td>14.526497</td>\n",
       "      <td>1.102743</td>\n",
       "      <td>0.806057</td>\n",
       "      <td>49.693429</td>\n",
       "      <td>13.002015</td>\n",
       "    </tr>\n",
       "    <tr>\n",
       "      <th>min</th>\n",
       "      <td>0.420000</td>\n",
       "      <td>0.000000</td>\n",
       "      <td>0.000000</td>\n",
       "      <td>0.000000</td>\n",
       "      <td>0.420000</td>\n",
       "    </tr>\n",
       "    <tr>\n",
       "      <th>25%</th>\n",
       "      <td>20.125000</td>\n",
       "      <td>0.000000</td>\n",
       "      <td>0.000000</td>\n",
       "      <td>7.910400</td>\n",
       "      <td>22.000000</td>\n",
       "    </tr>\n",
       "    <tr>\n",
       "      <th>50%</th>\n",
       "      <td>28.000000</td>\n",
       "      <td>0.000000</td>\n",
       "      <td>0.000000</td>\n",
       "      <td>14.454200</td>\n",
       "      <td>29.700000</td>\n",
       "    </tr>\n",
       "    <tr>\n",
       "      <th>75%</th>\n",
       "      <td>38.000000</td>\n",
       "      <td>1.000000</td>\n",
       "      <td>0.000000</td>\n",
       "      <td>31.000000</td>\n",
       "      <td>35.000000</td>\n",
       "    </tr>\n",
       "    <tr>\n",
       "      <th>max</th>\n",
       "      <td>80.000000</td>\n",
       "      <td>8.000000</td>\n",
       "      <td>6.000000</td>\n",
       "      <td>512.329200</td>\n",
       "      <td>80.000000</td>\n",
       "    </tr>\n",
       "  </tbody>\n",
       "</table>\n",
       "</div>"
      ],
      "text/plain": [
       "              Age       SibSp       Parch        Fare  Age_imputed\n",
       "count  714.000000  891.000000  891.000000  891.000000   891.000000\n",
       "mean    29.699118    0.523008    0.381594   32.204208    29.699293\n",
       "std     14.526497    1.102743    0.806057   49.693429    13.002015\n",
       "min      0.420000    0.000000    0.000000    0.000000     0.420000\n",
       "25%     20.125000    0.000000    0.000000    7.910400    22.000000\n",
       "50%     28.000000    0.000000    0.000000   14.454200    29.700000\n",
       "75%     38.000000    1.000000    0.000000   31.000000    35.000000\n",
       "max     80.000000    8.000000    6.000000  512.329200    80.000000"
      ]
     },
     "execution_count": 66,
     "metadata": {},
     "output_type": "execute_result"
    }
   ],
   "source": [
    "## Write your code here\n",
    "source_data.describe()"
   ]
  },
  {
   "cell_type": "markdown",
   "metadata": {},
   "source": [
    "### How many survived?\n",
    "\n",
    "First thing you may want to know is how many have survived, maybe through a bar chart comparison?"
   ]
  },
  {
   "cell_type": "code",
   "execution_count": 310,
   "metadata": {
    "collapsed": false
   },
   "outputs": [
    {
     "data": {
      "text/plain": [
       "<matplotlib.axes._subplots.AxesSubplot at 0x7febced123c8>"
      ]
     },
     "execution_count": 310,
     "metadata": {},
     "output_type": "execute_result"
    },
    {
     "data": {
      "image/png": "[encoded data removed]",
      "text/plain": [
       "<Figure size 432x288 with 1 Axes>"
      ]
     },
     "metadata": {},
     "output_type": "display_data"
    }
   ],
   "source": [
    "## Write your code here\n",
    "source_data['Survived'].value_counts().sort_index().plot(kind='bar', rot=0)"
   ]
  },
  {
   "cell_type": "markdown",
   "metadata": {},
   "source": [
    "### Answer the question:\n",
    "\n",
    "__What can you learn from above figure?__ Write your answer below:\n",
    "\n"
   ]
  },
  {
   "cell_type": "markdown",
   "metadata": {},
   "source": [
    "### How many male vs. female?\n",
    "Gender (`sex`) is another important feature to group your instances. You may want to check the distribution as well."
   ]
  },
  {
   "cell_type": "code",
   "execution_count": 323,
   "metadata": {
    "collapsed": false
   },
   "outputs": [
    {
     "name": "stdout",
     "output_type": "stream",
     "text": [
      "number of females:  314\n",
      "number of males:  577\n"
     ]
    },
    {
     "data": {
      "text/plain": [
       "<matplotlib.axes._subplots.AxesSubplot at 0x7febce9fde10>"
      ]
     },
     "execution_count": 323,
     "metadata": {},
     "output_type": "execute_result"
    },
    {
     "data": {
      "image/png": "[encoded data removed]",
      "text/plain": [
       "<Figure size 432x288 with 1 Axes>"
      ]
     },
     "metadata": {},
     "output_type": "display_data"
    }
   ],
   "source": [
    "# calculate the number of females on the titanic\n",
    "print('number of females: ', (source_data['Sex'] == 'female').sum())\n",
    "\n",
    "# calculate the number of males on the titanic\n",
    "print('number of males: ', (source_data['Sex'] == 'male').sum())\n",
    "\n",
    "# plot the barchart of of the number of males and females based on the 'Sex' column of the pandas' dataframe 'soure_data'\n",
    "source_data['Sex'].value_counts().sort_index().plot(kind='bar', rot=0)"
   ]
  },
  {
   "cell_type": "markdown",
   "metadata": {},
   "source": [
    "### Answer the question:\n",
    "\n",
    "__What can you learn from above figure?__ Write your answer below:\n"
   ]
  },
  {
   "cell_type": "code",
   "execution_count": 317,
   "metadata": {},
   "outputs": [
    {
     "name": "stdout",
     "output_type": "stream",
     "text": [
      "number of males:  577\n",
      "number of females:  314\n"
     ]
    }
   ],
   "source": [
    "# we can infer from the barchart that there are almost twice as many males compared to females on board of the titanic, namely a little over 300 females (314) and almost 580 males (577)"
   ]
  },
  {
   "cell_type": "markdown",
   "metadata": {},
   "source": [
    "### Different classes\n",
    "Look at the distribution of different classes are also important."
   ]
  },
  {
   "cell_type": "code",
   "execution_count": 309,
   "metadata": {
    "collapsed": false
   },
   "outputs": [
    {
     "data": {
      "text/plain": [
       "<matplotlib.axes._subplots.AxesSubplot at 0x7febcea1b0b8>"
      ]
     },
     "execution_count": 309,
     "metadata": {},
     "output_type": "execute_result"
    },
    {
     "data": {
      "image/png": "[encoded data removed]",
      "text/plain": [
       "<Figure size 432x288 with 1 Axes>"
      ]
     },
     "metadata": {},
     "output_type": "display_data"
    }
   ],
   "source": [
    "# Plot a Pie chart of 'Pclass'\n",
    "source_data['Pclass'].value_counts().sort_index().plot(kind='pie')"
   ]
  },
  {
   "cell_type": "code",
   "execution_count": 301,
   "metadata": {},
   "outputs": [
    {
     "data": {
      "text/plain": [
       "3    55.106622\n",
       "1    24.242424\n",
       "2    20.650954\n",
       "Name: Pclass, dtype: float64"
      ]
     },
     "execution_count": 301,
     "metadata": {},
     "output_type": "execute_result"
    }
   ],
   "source": [
    "# Calculate the % of each class within 'Pclass'\n",
    "source_data['Pclass'].value_counts()/source_data['Pclass'].shape[0]*100\n",
    "\n",
    "# find unique elements of 'Pclass' and sort them\n",
    "#sorted(source_data['Pclass'].unique())"
   ]
  },
  {
   "cell_type": "code",
   "execution_count": 324,
   "metadata": {},
   "outputs": [
    {
     "data": {
      "image/png": "[encoded data removed]",
      "text/plain": [
       "<Figure size 432x288 with 1 Axes>"
      ]
     },
     "metadata": {},
     "output_type": "display_data"
    }
   ],
   "source": [
    "# Pie chart, where the slices will be ordered and plotted counter-clockwise:\n",
    "# source: https://matplotlib.org/3.1.1/gallery/pie_and_polar_charts/pie_features.html#sphx-glr-gallery-pie-and-polar-charts-pie-features-py\n",
    "# source: https://matplotlib.org/3.1.1/api/_as_gen/matplotlib.pyplot.pie.html#matplotlib.pyplot.pie\n",
    "\n",
    "# define the labels for each piece of the pie-chart based on the order or the previous codeblock (3-1-2)\n",
    "labels = '3rd class', '1st class', '2nd class'\n",
    "\n",
    "# define the sizes of the pie chart in percentages\n",
    "#sizes = [55.1, 24.2, 20.7]\n",
    "sizes = (source_data['Pclass'].value_counts()/source_data['Pclass'].shape[0]*100)\n",
    "\n",
    "# set which slice should be seperated/exploded from the other parts of the pie and how much\n",
    "explode = (0.1, 0, 0)  # only \"explode\" the 1st slice\n",
    "\n",
    "# Creates just a figure and only one subplot - from the matplotlib library which is a 2D plotting library\n",
    "# source: https://matplotlib.org/3.1.1/api/_as_gen/matplotlib.pyplot.subplots.html\n",
    "fig_Pclass, ax1 = plt.subplots()\n",
    "\n",
    "# define the pie chart features, define sizes, explode, labels, autopct %, shadow, startangle\n",
    "ax1.pie(sizes, explode=explode, labels=labels, autopct='%1.1f%%', shadow=True, startangle=90)\n",
    "\n",
    "# set the title of the pie chart and the aspect ratio to equal\n",
    "ax1.set(aspect=\"equal\", title='Pie Chart of `Pclass`') # Equal aspect ratio ensures that pie is drawn as a circle.\n",
    "\n",
    "# Plot the Pie-chart of 'Pclass'\n",
    "plt.show()"
   ]
  },
  {
   "cell_type": "markdown",
   "metadata": {},
   "source": [
    "### Answer the question:\n",
    "\n",
    "__What can you learn from above figure?__ Write your answer below:"
   ]
  },
  {
   "cell_type": "code",
   "execution_count": null,
   "metadata": {},
   "outputs": [],
   "source": [
    "# From the Pie chart it becomes clear that 24.2% were traveling 1st class, 20.7% were traveling 2nd class and 55.1% were traveling 3rd class. Whereby 3rd class > 1st class > 2nd class. "
   ]
  },
  {
   "cell_type": "markdown",
   "metadata": {},
   "source": [
    "### How is age distributed?\n",
    "\n",
    "Looking at the age distribution of the passengers may also be useful."
   ]
  },
  {
   "cell_type": "code",
   "execution_count": 106,
   "metadata": {
    "collapsed": false
   },
   "outputs": [
    {
     "data": {
      "text/plain": [
       "<matplotlib.axes._subplots.AxesSubplot at 0x7f02101a84e0>"
      ]
     },
     "execution_count": 106,
     "metadata": {},
     "output_type": "execute_result"
    },
    {
     "data": {
      "image/png": "[encoded data removed]",
      "text/plain": [
       "<Figure size 432x288 with 1 Axes>"
      ]
     },
     "metadata": {
      "needs_background": "light"
     },
     "output_type": "display_data"
    }
   ],
   "source": [
    "## Write your code here\n",
    "source_data['Age_imputed'].plot(kind='hist' , bins =10)"
   ]
  },
  {
   "cell_type": "markdown",
   "metadata": {},
   "source": [
    "### Answer the question:\n",
    "\n",
    "__What can you learn from above figure?__ Write your answer below:"
   ]
  },
  {
   "cell_type": "markdown",
   "metadata": {},
   "source": [
    "### How is fare distributed?\n",
    "\n",
    "Looking at the fare distribution of the passengers may also be useful."
   ]
  },
  {
   "cell_type": "code",
   "execution_count": 107,
   "metadata": {
    "collapsed": false
   },
   "outputs": [
    {
     "data": {
      "text/plain": [
       "<matplotlib.axes._subplots.AxesSubplot at 0x7f0210132198>"
      ]
     },
     "execution_count": 107,
     "metadata": {},
     "output_type": "execute_result"
    },
    {
     "data": {
      "image/png": "[encoded data removed]",
      "text/plain": [
       "<Figure size 432x288 with 1 Axes>"
      ]
     },
     "metadata": {
      "needs_background": "light"
     },
     "output_type": "display_data"
    }
   ],
   "source": [
    "## Write your code here\n",
    "source_data['Fare'].plot(kind='hist', bins = 10)"
   ]
  },
  {
   "cell_type": "markdown",
   "metadata": {},
   "source": [
    "### Answer the question:\n",
    "\n",
    "__What can you learn from above figure?__ Write your answer below:"
   ]
  },
  {
   "cell_type": "code",
   "execution_count": null,
   "metadata": {},
   "outputs": [],
   "source": []
  },
  {
   "cell_type": "markdown",
   "metadata": {},
   "source": [
    "You should ckeck other faetures if you decide to use them in your analysis."
   ]
  },
  {
   "cell_type": "markdown",
   "metadata": {},
   "source": [
    "## Step 3: Feature Transformation/Creation\n",
    "\n",
    "In your analysis, you may need to create some addtional features/columns to further support it. \n",
    "\n",
    "Here, we are going to create a few features.\n",
    "\n",
    "### Creating age group\n",
    "\n",
    "Grouping age into a categorical feature is always a good strategy to deal with your data. In this analysis, we treat the age grouping use the following logic:\n",
    "\n",
    "```python\n",
    "if age < 21:\n",
    "    'child'\n",
    "elif age > 60:\n",
    "    'elder'\n",
    "else:\n",
    "    'adult'\n",
    "```\n",
    "\n",
    "You should call the new column as `Age_group`."
   ]
  },
  {
   "cell_type": "code",
   "execution_count": 152,
   "metadata": {
    "collapsed": false
   },
   "outputs": [],
   "source": [
    "## write your code here\n",
    "def my_age(age):\n",
    "    if age < 21:\n",
    "        return'child'\n",
    "    elif age > 60:\n",
    "        return'elder'\n",
    "    else:\n",
    "        return'adult'\n",
    "    "
   ]
  },
  {
   "cell_type": "code",
   "execution_count": 153,
   "metadata": {},
   "outputs": [
    {
     "data": {
      "text/plain": [
       "Survived              0\n",
       "Pclass                0\n",
       "Name                  0\n",
       "Sex                   0\n",
       "Age                 177\n",
       "SibSp                 0\n",
       "Parch                 0\n",
       "Ticket                0\n",
       "Fare                  0\n",
       "Embarked              2\n",
       "Age_imputed           0\n",
       "Embarked_imputed      0\n",
       "Age_group             0\n",
       "dtype: int64"
      ]
     },
     "execution_count": 153,
     "metadata": {},
     "output_type": "execute_result"
    }
   ],
   "source": [
    "source_data['Age_group'] = source_data['Age_imputed'].apply(my_age)\n",
    "source_data.isna().sum()"
   ]
  },
  {
   "cell_type": "markdown",
   "metadata": {},
   "source": [
    "### Create family and travel_alone\n",
    "\n",
    "In this dataset, we have two features modeling _family_: `sibsp` and `parch`. Maybe in the analysis we only care about if the passenger is traveling alone or not.\n",
    "\n",
    "The logic is as following:\n",
    "1. we are going to combine `sibsp` and `parch` as a new column `family` - just adding them up;\n",
    "2. create a new column `travel_alone` with the following logic:\n",
    "```python \n",
    "if family == 0:\n",
    "    'alone'\n",
    "else:\n",
    "    'family'\n",
    "```\n",
    "Don't forget to test if the calculation is correct."
   ]
  },
  {
   "cell_type": "code",
   "execution_count": 154,
   "metadata": {
    "collapsed": false
   },
   "outputs": [
    {
     "data": {
      "text/html": [
       "<div>\n",
       "<style scoped>\n",
       "    .dataframe tbody tr th:only-of-type {\n",
       "        vertical-align: middle;\n",
       "    }\n",
       "\n",
       "    .dataframe tbody tr th {\n",
       "        vertical-align: top;\n",
       "    }\n",
       "\n",
       "    .dataframe thead th {\n",
       "        text-align: right;\n",
       "    }\n",
       "</style>\n",
       "<table border=\"1\" class=\"dataframe\">\n",
       "  <thead>\n",
       "    <tr style=\"text-align: right;\">\n",
       "      <th></th>\n",
       "      <th>Survived</th>\n",
       "      <th>Pclass</th>\n",
       "      <th>Name</th>\n",
       "      <th>Sex</th>\n",
       "      <th>Age</th>\n",
       "      <th>SibSp</th>\n",
       "      <th>Parch</th>\n",
       "      <th>Ticket</th>\n",
       "      <th>Fare</th>\n",
       "      <th>Embarked</th>\n",
       "      <th>Age_imputed</th>\n",
       "      <th>Embarked_imputed</th>\n",
       "      <th>Age_group</th>\n",
       "      <th>Family</th>\n",
       "    </tr>\n",
       "    <tr>\n",
       "      <th>PassengerId</th>\n",
       "      <th></th>\n",
       "      <th></th>\n",
       "      <th></th>\n",
       "      <th></th>\n",
       "      <th></th>\n",
       "      <th></th>\n",
       "      <th></th>\n",
       "      <th></th>\n",
       "      <th></th>\n",
       "      <th></th>\n",
       "      <th></th>\n",
       "      <th></th>\n",
       "      <th></th>\n",
       "      <th></th>\n",
       "    </tr>\n",
       "  </thead>\n",
       "  <tbody>\n",
       "    <tr>\n",
       "      <th>887</th>\n",
       "      <td>0</td>\n",
       "      <td>2</td>\n",
       "      <td>Montvila, Rev. Juozas</td>\n",
       "      <td>male</td>\n",
       "      <td>27.0</td>\n",
       "      <td>0</td>\n",
       "      <td>0</td>\n",
       "      <td>211536</td>\n",
       "      <td>13.00</td>\n",
       "      <td>S</td>\n",
       "      <td>27.0</td>\n",
       "      <td>S</td>\n",
       "      <td>adult</td>\n",
       "      <td>0</td>\n",
       "    </tr>\n",
       "    <tr>\n",
       "      <th>888</th>\n",
       "      <td>1</td>\n",
       "      <td>1</td>\n",
       "      <td>Graham, Miss. Margaret Edith</td>\n",
       "      <td>female</td>\n",
       "      <td>19.0</td>\n",
       "      <td>0</td>\n",
       "      <td>0</td>\n",
       "      <td>112053</td>\n",
       "      <td>30.00</td>\n",
       "      <td>S</td>\n",
       "      <td>19.0</td>\n",
       "      <td>S</td>\n",
       "      <td>child</td>\n",
       "      <td>0</td>\n",
       "    </tr>\n",
       "    <tr>\n",
       "      <th>889</th>\n",
       "      <td>0</td>\n",
       "      <td>3</td>\n",
       "      <td>Johnston, Miss. Catherine Helen \"Carrie\"</td>\n",
       "      <td>female</td>\n",
       "      <td>NaN</td>\n",
       "      <td>1</td>\n",
       "      <td>2</td>\n",
       "      <td>W./C. 6607</td>\n",
       "      <td>23.45</td>\n",
       "      <td>S</td>\n",
       "      <td>29.7</td>\n",
       "      <td>S</td>\n",
       "      <td>adult</td>\n",
       "      <td>3</td>\n",
       "    </tr>\n",
       "    <tr>\n",
       "      <th>890</th>\n",
       "      <td>1</td>\n",
       "      <td>1</td>\n",
       "      <td>Behr, Mr. Karl Howell</td>\n",
       "      <td>male</td>\n",
       "      <td>26.0</td>\n",
       "      <td>0</td>\n",
       "      <td>0</td>\n",
       "      <td>111369</td>\n",
       "      <td>30.00</td>\n",
       "      <td>C</td>\n",
       "      <td>26.0</td>\n",
       "      <td>C</td>\n",
       "      <td>adult</td>\n",
       "      <td>0</td>\n",
       "    </tr>\n",
       "    <tr>\n",
       "      <th>891</th>\n",
       "      <td>0</td>\n",
       "      <td>3</td>\n",
       "      <td>Dooley, Mr. Patrick</td>\n",
       "      <td>male</td>\n",
       "      <td>32.0</td>\n",
       "      <td>0</td>\n",
       "      <td>0</td>\n",
       "      <td>370376</td>\n",
       "      <td>7.75</td>\n",
       "      <td>Q</td>\n",
       "      <td>32.0</td>\n",
       "      <td>Q</td>\n",
       "      <td>adult</td>\n",
       "      <td>0</td>\n",
       "    </tr>\n",
       "  </tbody>\n",
       "</table>\n",
       "</div>"
      ],
      "text/plain": [
       "            Survived Pclass                                      Name     Sex  \\\n",
       "PassengerId                                                                     \n",
       "887                0      2                     Montvila, Rev. Juozas    male   \n",
       "888                1      1              Graham, Miss. Margaret Edith  female   \n",
       "889                0      3  Johnston, Miss. Catherine Helen \"Carrie\"  female   \n",
       "890                1      1                     Behr, Mr. Karl Howell    male   \n",
       "891                0      3                       Dooley, Mr. Patrick    male   \n",
       "\n",
       "              Age  SibSp  Parch      Ticket   Fare Embarked  Age_imputed  \\\n",
       "PassengerId                                                                \n",
       "887          27.0      0      0      211536  13.00        S         27.0   \n",
       "888          19.0      0      0      112053  30.00        S         19.0   \n",
       "889           NaN      1      2  W./C. 6607  23.45        S         29.7   \n",
       "890          26.0      0      0      111369  30.00        C         26.0   \n",
       "891          32.0      0      0      370376   7.75        Q         32.0   \n",
       "\n",
       "            Embarked_imputed Age_group  Family  \n",
       "PassengerId                                     \n",
       "887                        S     adult       0  \n",
       "888                        S     child       0  \n",
       "889                        S     adult       3  \n",
       "890                        C     adult       0  \n",
       "891                        Q     adult       0  "
      ]
     },
     "execution_count": 154,
     "metadata": {},
     "output_type": "execute_result"
    }
   ],
   "source": [
    "## write your code here\n",
    "source_data['Family'] = source_data['SibSp'] + source_data['Parch']\n",
    "source_data.tail()"
   ]
  },
  {
   "cell_type": "code",
   "execution_count": 155,
   "metadata": {},
   "outputs": [
    {
     "data": {
      "text/html": [
       "<div>\n",
       "<style scoped>\n",
       "    .dataframe tbody tr th:only-of-type {\n",
       "        vertical-align: middle;\n",
       "    }\n",
       "\n",
       "    .dataframe tbody tr th {\n",
       "        vertical-align: top;\n",
       "    }\n",
       "\n",
       "    .dataframe thead th {\n",
       "        text-align: right;\n",
       "    }\n",
       "</style>\n",
       "<table border=\"1\" class=\"dataframe\">\n",
       "  <thead>\n",
       "    <tr style=\"text-align: right;\">\n",
       "      <th></th>\n",
       "      <th>Survived</th>\n",
       "      <th>Pclass</th>\n",
       "      <th>Name</th>\n",
       "      <th>Sex</th>\n",
       "      <th>Age</th>\n",
       "      <th>SibSp</th>\n",
       "      <th>Parch</th>\n",
       "      <th>Ticket</th>\n",
       "      <th>Fare</th>\n",
       "      <th>Embarked</th>\n",
       "      <th>Age_imputed</th>\n",
       "      <th>Embarked_imputed</th>\n",
       "      <th>Age_group</th>\n",
       "      <th>Family</th>\n",
       "      <th>Travel_alone</th>\n",
       "    </tr>\n",
       "    <tr>\n",
       "      <th>PassengerId</th>\n",
       "      <th></th>\n",
       "      <th></th>\n",
       "      <th></th>\n",
       "      <th></th>\n",
       "      <th></th>\n",
       "      <th></th>\n",
       "      <th></th>\n",
       "      <th></th>\n",
       "      <th></th>\n",
       "      <th></th>\n",
       "      <th></th>\n",
       "      <th></th>\n",
       "      <th></th>\n",
       "      <th></th>\n",
       "      <th></th>\n",
       "    </tr>\n",
       "  </thead>\n",
       "  <tbody>\n",
       "    <tr>\n",
       "      <th>1</th>\n",
       "      <td>0</td>\n",
       "      <td>3</td>\n",
       "      <td>Braund, Mr. Owen Harris</td>\n",
       "      <td>male</td>\n",
       "      <td>22.0</td>\n",
       "      <td>1</td>\n",
       "      <td>0</td>\n",
       "      <td>A/5 21171</td>\n",
       "      <td>7.2500</td>\n",
       "      <td>S</td>\n",
       "      <td>22.0</td>\n",
       "      <td>S</td>\n",
       "      <td>adult</td>\n",
       "      <td>1</td>\n",
       "      <td>family</td>\n",
       "    </tr>\n",
       "    <tr>\n",
       "      <th>2</th>\n",
       "      <td>1</td>\n",
       "      <td>1</td>\n",
       "      <td>Cumings, Mrs. John Bradley (Florence Briggs Th...</td>\n",
       "      <td>female</td>\n",
       "      <td>38.0</td>\n",
       "      <td>1</td>\n",
       "      <td>0</td>\n",
       "      <td>PC 17599</td>\n",
       "      <td>71.2833</td>\n",
       "      <td>C</td>\n",
       "      <td>38.0</td>\n",
       "      <td>C</td>\n",
       "      <td>adult</td>\n",
       "      <td>1</td>\n",
       "      <td>family</td>\n",
       "    </tr>\n",
       "    <tr>\n",
       "      <th>3</th>\n",
       "      <td>1</td>\n",
       "      <td>3</td>\n",
       "      <td>Heikkinen, Miss. Laina</td>\n",
       "      <td>female</td>\n",
       "      <td>26.0</td>\n",
       "      <td>0</td>\n",
       "      <td>0</td>\n",
       "      <td>STON/O2. 3101282</td>\n",
       "      <td>7.9250</td>\n",
       "      <td>S</td>\n",
       "      <td>26.0</td>\n",
       "      <td>S</td>\n",
       "      <td>adult</td>\n",
       "      <td>0</td>\n",
       "      <td>alone</td>\n",
       "    </tr>\n",
       "    <tr>\n",
       "      <th>4</th>\n",
       "      <td>1</td>\n",
       "      <td>1</td>\n",
       "      <td>Futrelle, Mrs. Jacques Heath (Lily May Peel)</td>\n",
       "      <td>female</td>\n",
       "      <td>35.0</td>\n",
       "      <td>1</td>\n",
       "      <td>0</td>\n",
       "      <td>113803</td>\n",
       "      <td>53.1000</td>\n",
       "      <td>S</td>\n",
       "      <td>35.0</td>\n",
       "      <td>S</td>\n",
       "      <td>adult</td>\n",
       "      <td>1</td>\n",
       "      <td>family</td>\n",
       "    </tr>\n",
       "    <tr>\n",
       "      <th>5</th>\n",
       "      <td>0</td>\n",
       "      <td>3</td>\n",
       "      <td>Allen, Mr. William Henry</td>\n",
       "      <td>male</td>\n",
       "      <td>35.0</td>\n",
       "      <td>0</td>\n",
       "      <td>0</td>\n",
       "      <td>373450</td>\n",
       "      <td>8.0500</td>\n",
       "      <td>S</td>\n",
       "      <td>35.0</td>\n",
       "      <td>S</td>\n",
       "      <td>adult</td>\n",
       "      <td>0</td>\n",
       "      <td>alone</td>\n",
       "    </tr>\n",
       "  </tbody>\n",
       "</table>\n",
       "</div>"
      ],
      "text/plain": [
       "            Survived Pclass  \\\n",
       "PassengerId                   \n",
       "1                  0      3   \n",
       "2                  1      1   \n",
       "3                  1      3   \n",
       "4                  1      1   \n",
       "5                  0      3   \n",
       "\n",
       "                                                          Name     Sex   Age  \\\n",
       "PassengerId                                                                    \n",
       "1                                      Braund, Mr. Owen Harris    male  22.0   \n",
       "2            Cumings, Mrs. John Bradley (Florence Briggs Th...  female  38.0   \n",
       "3                                       Heikkinen, Miss. Laina  female  26.0   \n",
       "4                 Futrelle, Mrs. Jacques Heath (Lily May Peel)  female  35.0   \n",
       "5                                     Allen, Mr. William Henry    male  35.0   \n",
       "\n",
       "             SibSp  Parch            Ticket     Fare Embarked  Age_imputed  \\\n",
       "PassengerId                                                                  \n",
       "1                1      0         A/5 21171   7.2500        S         22.0   \n",
       "2                1      0          PC 17599  71.2833        C         38.0   \n",
       "3                0      0  STON/O2. 3101282   7.9250        S         26.0   \n",
       "4                1      0            113803  53.1000        S         35.0   \n",
       "5                0      0            373450   8.0500        S         35.0   \n",
       "\n",
       "            Embarked_imputed Age_group  Family Travel_alone  \n",
       "PassengerId                                                  \n",
       "1                          S     adult       1       family  \n",
       "2                          C     adult       1       family  \n",
       "3                          S     adult       0        alone  \n",
       "4                          S     adult       1       family  \n",
       "5                          S     adult       0        alone  "
      ]
     },
     "execution_count": 155,
     "metadata": {},
     "output_type": "execute_result"
    }
   ],
   "source": [
    "source_data['Travel_alone'] = source_data['Family'].apply(lambda x : 'alone' if x == 0 else 'family' )\n",
    "source_data.head()"
   ]
  },
  {
   "cell_type": "markdown",
   "metadata": {},
   "source": [
    "You should create additional features if needed."
   ]
  },
  {
   "cell_type": "markdown",
   "metadata": {},
   "source": [
    "## Step 4: Answer Your Analytical Question\n",
    "\n",
    "Since we have gained enough understanding of the dataset, now we can move forward toward the analytical questions you defined earlier. _Do not hesitate to change your analytical question if needed._\n",
    "\n",
    "__You should break down this step based on your analytical questions. __\n",
    "\n",
    "Below is some example I try to answer my example analytical questions."
   ]
  },
  {
   "cell_type": "code",
   "execution_count": 20,
   "metadata": {
    "collapsed": false
   },
   "outputs": [
    {
     "data": {
      "text/plain": [
       "<matplotlib.axes._subplots.AxesSubplot at 0x114f85a20>"
      ]
     },
     "execution_count": 20,
     "metadata": {},
     "output_type": "execute_result"
    },
    {
     "data": {
      "image/png": "[encoded data removed]",
      "text/plain": [
       "<matplotlib.figure.Figure at 0x1151b3588>"
      ]
     },
     "metadata": {},
     "output_type": "display_data"
    }
   ],
   "source": [
    "# sex vs. survived\n",
    "source_data[['Sex', 'Survived']].groupby(['Sex']).mean().plot(kind='bar', rot = 0)"
   ]
  },
  {
   "cell_type": "code",
   "execution_count": 21,
   "metadata": {
    "collapsed": false
   },
   "outputs": [
    {
     "data": {
      "text/plain": [
       "<matplotlib.axes._subplots.AxesSubplot at 0x114fba240>"
      ]
     },
     "execution_count": 21,
     "metadata": {},
     "output_type": "execute_result"
    },
    {
     "data": {
      "image/png": "[encoded data removed]",
      "text/plain": [
       "<matplotlib.figure.Figure at 0x1152b3780>"
      ]
     },
     "metadata": {},
     "output_type": "display_data"
    }
   ],
   "source": [
    "# sex vs. survived\n",
    "source_data.groupby('Sex')['Survived'].value_counts().plot(kind='bar')"
   ]
  },
  {
   "cell_type": "markdown",
   "metadata": {},
   "source": [
    "### What can be learned - This is required for all your analytical questions\n",
    "\n",
    "Based on above visualization, it is clear that the _survival rate_ of _female_ passengers are much higher (>70%). \n",
    "\n",
    "Based on the lower visualization, it is clear that in terms of the absolute number, female passengers survived more than male ones, despite the larger number of male passengers on the Titanic.\n",
    "\n",
    "These findings possibly suggest that the passengers on the Titanic are very __chivalrous__."
   ]
  },
  {
   "cell_type": "markdown",
   "metadata": {},
   "source": [
    "### Start Your Own Analysis\n",
    "\n",
    "Now you can start your own analysis below."
   ]
  },
  {
   "cell_type": "code",
   "execution_count": null,
   "metadata": {
    "collapsed": true
   },
   "outputs": [],
   "source": []
  },
  {
   "cell_type": "markdown",
   "metadata": {},
   "source": [
    "### What can you learn from your analysis, in response toward your analytical question?\n",
    "\n",
    "Put your analysis here"
   ]
  },
  {
   "cell_type": "markdown",
   "metadata": {},
   "source": [
    "## Step 5: Next Steps and Wrap Up\n",
    "\n",
    "In this section, you should discuss the next steps of the analysis. The next steps should be very relevant to the dataset (and your analytical questions), but might not be feasible because of the time/data/technique constraints.\n",
    "\n",
    "### An Example Next Step\n",
    "\n",
    "Based on my analytical questions, a natural next step is to analyze how can we use these features (including `Sex`, `Age_group`, ...) to __predict__ whether a passenger would survive or not. This would be the best extension of the analysis I have done so far. However, due to the data limitation (missing a _testing_ dataset to evaluate the predictive model(s)), and the limitations of the predictive modeling techniques (which I will learn in BA 545 next semester), they are not feasible at this point"
   ]
  },
  {
   "cell_type": "markdown",
   "metadata": {},
   "source": [
    "### Next Steps\n",
    "\n",
    "Provide your next steps here."
   ]
  },
  {
   "cell_type": "markdown",
   "metadata": {},
   "source": [
    "To wrap up, you should provide a few things, including __lessons learned__ and __technical challenges__. These parts are _optional_ in this analysis, but are __required__ in your final project.\n",
    "\n",
    "- __lessons learned__: these are the generic lessons you have learned in the analysis, such as how to write proper python code (for different analytical purposes), how to write up your analytical results, etc.\n",
    "- __technocal challenges__: during your analysis, you must have encountered and overcame some technical challenges, such as questions in writing code/handling errors, ...\n",
    "\n",
    "Writing these two parts would help you further your understanding toward data analysis."
   ]
  },
  {
   "cell_type": "markdown",
   "metadata": {},
   "source": [
    "### Wrapping Up\n",
    "\n",
    "Good job!\n",
    "\n",
    "In this part, you have completed some _descriptive analyses_ using a famous dataset from scratch. This is a __preview__ of your final project, and you should consider using this notebook as a _template_ for your final project analysis."
   ]
  },
  {
   "cell_type": "code",
   "execution_count": null,
   "metadata": {
    "collapsed": true
   },
   "outputs": [],
   "source": []
  }
 ],
 "metadata": {
  "kernelspec": {
   "display_name": "Python 3",
   "language": "python",
   "name": "python3"
  },
  "language_info": {
   "codemirror_mode": {
    "name": "ipython",
    "version": 3
   },
   "file_extension": ".py",
   "mimetype": "text/x-python",
   "name": "python",
   "nbconvert_exporter": "python",
   "pygments_lexer": "ipython3",
   "version": "3.6.7"
  }
 },
 "nbformat": 4,
 "nbformat_minor": 2
}
