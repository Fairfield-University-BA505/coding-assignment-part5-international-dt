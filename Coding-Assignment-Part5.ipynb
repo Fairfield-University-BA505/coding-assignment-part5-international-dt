{
 "cells": [
  {
   "cell_type": "markdown",
   "metadata": {},
   "source": [
    "# A Larger Dataset from Scratch\n",
    "\n",
    "Created by Dr. Jie Tao, ver. 0.1\n",
    "\n",
    "## What you need to know in this part\n",
    "We are putting things together we learned in this course, and some other courses together. Specifically, these knowledge elements include:\n",
    "- Pandas \n",
    "    - DataFrame Operations\n",
    "    - Plotting\n",
    "- Markdown\n",
    "    - Express your analytical ideas\n",
    "    - Explain your analysis\n",
    "- Basic Descriptive Analysis from QA500\n",
    "- Analytics Pipeline from BA500\n",
    "\n",
    "## What you can do in this part\n",
    "After completing this part, you should be able to:\n",
    "- Create and lay out a new Jupyter Notebook\n",
    "- Collaborate with your peers using Git/Github\n",
    "- Use Pandas to load and manipulate a large dataset\n",
    "- Use Dataframe operations to analyze the data\n",
    "- Use Pandas plotting to plot key statistics"
   ]
  },
  {
   "cell_type": "markdown",
   "metadata": {},
   "source": [
    "## Step 0: Work with Your Final Group \n",
    "Consider this part as the final tryout for the final projects, in a __much smaller__ scale. You should work with the same group of people as the final project.\n",
    "\n",
    "## Step 1: Study Your Data\n",
    "The sinking of the Titanic is one of the most infamous shipwrecks in history.\n",
    "\n",
    "On April 15, 1912, during her maiden voyage, the widely considered “unsinkable” RMS Titanic sank after colliding with an iceberg. Unfortunately, there weren’t enough lifeboats for everyone onboard, resulting in the death of 1502 out of 2224 passengers and crew.\n",
    "\n",
    "While there was some element of luck involved in surviving, it seems some groups of people were more likely to survive than others.\n",
    "\n",
    "Here is a data dictionary you can use to understand your data, which is available [here](https://www.kaggle.com/c/titanic/data) as well.\n",
    "\n",
    "| Feature Name | Definition | Key |\n",
    "| ------------ | ---------- | --- |\n",
    "| survival | _Passenger survived or not_ | __0 = No, 1 = Yes__ |\n",
    "| pclass | _Ticket Class_ | __1 = 1st, 2 = 2nd, 3 = 3rd__ |\n",
    "| name | _Name of the passenger_ | ... | \n",
    "| sex | _Gender of the passenger_ | __male, female__ |\n",
    "| age | _Age in Years_ | ... |\n",
    "| sibsp | _# of siblings / spouses aboard the Titanic_ | ... |\n",
    "| parch | _# of parents / children aboard the Titanic_ | ... |\n",
    "| ticket | _Ticket number_ | ... |\n",
    "| fare | _Passenger fare paid_ | ... |\n",
    "| cabin | _Cabin number_ | ... |\n",
    "| embarked | _Port of Embarkation_ | __C = Cherbourg, Q = Queenstown, S = Southampton__ |\n",
    "\n",
    "There are some additional notes for these variables that maybe helpful:\n",
    "\n",
    "- __pclass__: A proxy for socio-economic status (SES)\n",
    "    - 1st = Upper\n",
    "    - 2nd = Middle\n",
    "    - 3rd = Lower\n",
    "\n",
    "- __age__: Age is fractional if less than 1. If the age is estimated, it is in the form of xx.5\n",
    "\n",
    "- __sibsp__: This feature defines family relations in this way...\n",
    "    - Sibling = brother, sister, stepbrother, stepsister\n",
    "    - Spouse = husband, wife (mistresses and fiancés were ignored)\n",
    "\n",
    "- __parch__: This feature defines family relations in this way...\n",
    "    - Parent = mother, father\n",
    "    - Child = daughter, son, stepdaughter, stepson\n",
    "    - Some children travelled only with a nanny, therefore parch=0 for them."
   ]
  },
  {
   "cell_type": "markdown",
   "metadata": {},
   "source": [
    "### YOUR TURN HERE\n",
    "Write a short paragraph here to explain how do you plan to use the data. Specifically, you need to come up with at least 2 _interesting_ __analytical questions__. Also, include a _third_ analytical question for __next steps__ (things you can not do now but plan to do in the future, maybe due to the limitations of time/data/technique). Do not forget mention __how other people should care about your analysis__.\n",
    "\n",
    "Here are some example questions:\n",
    "1. Do wemen have a better chance to survive?\n",
    "2. Do 1st-class passengers have a better chance to survive?\n",
    "\n",
    "Please do not use these questions directly, come up with something new.\n",
    "\n",
    "__NOTE:__ you should follow the same structure for your final project.\n",
    "\n",
    "__Your Analytical Questions below: __\n"
   ]
  },
  {
   "cell_type": "markdown",
   "metadata": {},
   "source": [
    "Secondly, the `titanic.csv` file contains all the data you need to use. Let's first load the data in. The DataFrame holding the data should be named as `source_data`."
   ]
  },
  {
   "cell_type": "code",
<<<<<<< HEAD
   "execution_count": 4,
=======
   "execution_count": 53,
>>>>>>> fa46a2984b58a5aad109de50bfb0404c8a999869
   "metadata": {
    "collapsed": true
   },
   "outputs": [],
   "source": [
    "# DO NOT CHANGE THIS CODE BLOCK\n",
    "import pandas as pd\n",
    "import matplotlib.pylab as plt\n",
    "%matplotlib inline\n",
    "plt.style.use('fivethirtyeight')"
   ]
  },
  {
   "cell_type": "markdown",
   "metadata": {},
   "source": [
    "### Load the Data\n",
    "Hint - you may want to set `PassengerId` as the index of the DataFrame, you can do above by using the `index_col=` argument in `pd.read_csv`."
   ]
  },
  {
   "cell_type": "code",
<<<<<<< HEAD
   "execution_count": 5,
=======
   "execution_count": 54,
>>>>>>> fa46a2984b58a5aad109de50bfb0404c8a999869
   "metadata": {
    "collapsed": false
   },
   "outputs": [
    {
     "data": {
      "text/html": [
       "<div>\n",
       "<style scoped>\n",
       "    .dataframe tbody tr th:only-of-type {\n",
       "        vertical-align: middle;\n",
       "    }\n",
       "\n",
       "    .dataframe tbody tr th {\n",
       "        vertical-align: top;\n",
       "    }\n",
       "\n",
       "    .dataframe thead th {\n",
       "        text-align: right;\n",
       "    }\n",
       "</style>\n",
       "<table border=\"1\" class=\"dataframe\">\n",
       "  <thead>\n",
       "    <tr style=\"text-align: right;\">\n",
       "      <th></th>\n",
       "      <th>Survived</th>\n",
       "      <th>Pclass</th>\n",
       "      <th>Name</th>\n",
       "      <th>Sex</th>\n",
       "      <th>Age</th>\n",
       "      <th>SibSp</th>\n",
       "      <th>Parch</th>\n",
       "      <th>Ticket</th>\n",
       "      <th>Fare</th>\n",
       "      <th>Cabin</th>\n",
       "      <th>Embarked</th>\n",
       "    </tr>\n",
       "    <tr>\n",
       "      <th>PassengerId</th>\n",
       "      <th></th>\n",
       "      <th></th>\n",
       "      <th></th>\n",
       "      <th></th>\n",
       "      <th></th>\n",
       "      <th></th>\n",
       "      <th></th>\n",
       "      <th></th>\n",
       "      <th></th>\n",
       "      <th></th>\n",
       "      <th></th>\n",
       "    </tr>\n",
       "  </thead>\n",
       "  <tbody>\n",
       "    <tr>\n",
       "      <th>1</th>\n",
       "      <td>0</td>\n",
       "      <td>3</td>\n",
       "      <td>Braund, Mr. Owen Harris</td>\n",
       "      <td>male</td>\n",
       "      <td>22.0</td>\n",
       "      <td>1</td>\n",
       "      <td>0</td>\n",
       "      <td>A/5 21171</td>\n",
       "      <td>7.2500</td>\n",
       "      <td>NaN</td>\n",
       "      <td>S</td>\n",
       "    </tr>\n",
       "    <tr>\n",
       "      <th>2</th>\n",
       "      <td>1</td>\n",
       "      <td>1</td>\n",
       "      <td>Cumings, Mrs. John Bradley (Florence Briggs Th...</td>\n",
       "      <td>female</td>\n",
       "      <td>38.0</td>\n",
       "      <td>1</td>\n",
       "      <td>0</td>\n",
       "      <td>PC 17599</td>\n",
       "      <td>71.2833</td>\n",
       "      <td>C85</td>\n",
       "      <td>C</td>\n",
       "    </tr>\n",
       "    <tr>\n",
       "      <th>3</th>\n",
       "      <td>1</td>\n",
       "      <td>3</td>\n",
       "      <td>Heikkinen, Miss. Laina</td>\n",
       "      <td>female</td>\n",
       "      <td>26.0</td>\n",
       "      <td>0</td>\n",
       "      <td>0</td>\n",
       "      <td>STON/O2. 3101282</td>\n",
       "      <td>7.9250</td>\n",
       "      <td>NaN</td>\n",
       "      <td>S</td>\n",
       "    </tr>\n",
       "    <tr>\n",
       "      <th>4</th>\n",
       "      <td>1</td>\n",
       "      <td>1</td>\n",
       "      <td>Futrelle, Mrs. Jacques Heath (Lily May Peel)</td>\n",
       "      <td>female</td>\n",
       "      <td>35.0</td>\n",
       "      <td>1</td>\n",
       "      <td>0</td>\n",
       "      <td>113803</td>\n",
       "      <td>53.1000</td>\n",
       "      <td>C123</td>\n",
       "      <td>S</td>\n",
       "    </tr>\n",
       "    <tr>\n",
       "      <th>5</th>\n",
       "      <td>0</td>\n",
       "      <td>3</td>\n",
       "      <td>Allen, Mr. William Henry</td>\n",
       "      <td>male</td>\n",
       "      <td>35.0</td>\n",
       "      <td>0</td>\n",
       "      <td>0</td>\n",
       "      <td>373450</td>\n",
       "      <td>8.0500</td>\n",
       "      <td>NaN</td>\n",
       "      <td>S</td>\n",
       "    </tr>\n",
<<<<<<< HEAD
=======
       "    <tr>\n",
       "      <th>6</th>\n",
       "      <td>0</td>\n",
       "      <td>3</td>\n",
       "      <td>Moran, Mr. James</td>\n",
       "      <td>male</td>\n",
       "      <td>NaN</td>\n",
       "      <td>0</td>\n",
       "      <td>0</td>\n",
       "      <td>330877</td>\n",
       "      <td>8.4583</td>\n",
       "      <td>NaN</td>\n",
       "      <td>Q</td>\n",
       "    </tr>\n",
       "    <tr>\n",
       "      <th>7</th>\n",
       "      <td>0</td>\n",
       "      <td>1</td>\n",
       "      <td>McCarthy, Mr. Timothy J</td>\n",
       "      <td>male</td>\n",
       "      <td>54.0</td>\n",
       "      <td>0</td>\n",
       "      <td>0</td>\n",
       "      <td>17463</td>\n",
       "      <td>51.8625</td>\n",
       "      <td>E46</td>\n",
       "      <td>S</td>\n",
       "    </tr>\n",
       "    <tr>\n",
       "      <th>8</th>\n",
       "      <td>0</td>\n",
       "      <td>3</td>\n",
       "      <td>Palsson, Master. Gosta Leonard</td>\n",
       "      <td>male</td>\n",
       "      <td>2.0</td>\n",
       "      <td>3</td>\n",
       "      <td>1</td>\n",
       "      <td>349909</td>\n",
       "      <td>21.0750</td>\n",
       "      <td>NaN</td>\n",
       "      <td>S</td>\n",
       "    </tr>\n",
       "    <tr>\n",
       "      <th>9</th>\n",
       "      <td>1</td>\n",
       "      <td>3</td>\n",
       "      <td>Johnson, Mrs. Oscar W (Elisabeth Vilhelmina Berg)</td>\n",
       "      <td>female</td>\n",
       "      <td>27.0</td>\n",
       "      <td>0</td>\n",
       "      <td>2</td>\n",
       "      <td>347742</td>\n",
       "      <td>11.1333</td>\n",
       "      <td>NaN</td>\n",
       "      <td>S</td>\n",
       "    </tr>\n",
       "    <tr>\n",
       "      <th>10</th>\n",
       "      <td>1</td>\n",
       "      <td>2</td>\n",
       "      <td>Nasser, Mrs. Nicholas (Adele Achem)</td>\n",
       "      <td>female</td>\n",
       "      <td>14.0</td>\n",
       "      <td>1</td>\n",
       "      <td>0</td>\n",
       "      <td>237736</td>\n",
       "      <td>30.0708</td>\n",
       "      <td>NaN</td>\n",
       "      <td>C</td>\n",
       "    </tr>\n",
>>>>>>> fa46a2984b58a5aad109de50bfb0404c8a999869
       "  </tbody>\n",
       "</table>\n",
       "</div>"
      ],
      "text/plain": [
       "             Survived  Pclass  \\\n",
       "PassengerId                     \n",
       "1                   0       3   \n",
       "2                   1       1   \n",
       "3                   1       3   \n",
       "4                   1       1   \n",
       "5                   0       3   \n",
<<<<<<< HEAD
=======
       "6                   0       3   \n",
       "7                   0       1   \n",
       "8                   0       3   \n",
       "9                   1       3   \n",
       "10                  1       2   \n",
>>>>>>> fa46a2984b58a5aad109de50bfb0404c8a999869
       "\n",
       "                                                          Name     Sex   Age  \\\n",
       "PassengerId                                                                    \n",
       "1                                      Braund, Mr. Owen Harris    male  22.0   \n",
       "2            Cumings, Mrs. John Bradley (Florence Briggs Th...  female  38.0   \n",
       "3                                       Heikkinen, Miss. Laina  female  26.0   \n",
       "4                 Futrelle, Mrs. Jacques Heath (Lily May Peel)  female  35.0   \n",
       "5                                     Allen, Mr. William Henry    male  35.0   \n",
<<<<<<< HEAD
=======
       "6                                             Moran, Mr. James    male   NaN   \n",
       "7                                      McCarthy, Mr. Timothy J    male  54.0   \n",
       "8                               Palsson, Master. Gosta Leonard    male   2.0   \n",
       "9            Johnson, Mrs. Oscar W (Elisabeth Vilhelmina Berg)  female  27.0   \n",
       "10                         Nasser, Mrs. Nicholas (Adele Achem)  female  14.0   \n",
>>>>>>> fa46a2984b58a5aad109de50bfb0404c8a999869
       "\n",
       "             SibSp  Parch            Ticket     Fare Cabin Embarked  \n",
       "PassengerId                                                          \n",
       "1                1      0         A/5 21171   7.2500   NaN        S  \n",
       "2                1      0          PC 17599  71.2833   C85        C  \n",
       "3                0      0  STON/O2. 3101282   7.9250   NaN        S  \n",
       "4                1      0            113803  53.1000  C123        S  \n",
<<<<<<< HEAD
       "5                0      0            373450   8.0500   NaN        S  "
      ]
     },
     "execution_count": 5,
=======
       "5                0      0            373450   8.0500   NaN        S  \n",
       "6                0      0            330877   8.4583   NaN        Q  \n",
       "7                0      0             17463  51.8625   E46        S  \n",
       "8                3      1            349909  21.0750   NaN        S  \n",
       "9                0      2            347742  11.1333   NaN        S  \n",
       "10               1      0            237736  30.0708   NaN        C  "
      ]
     },
     "execution_count": 54,
>>>>>>> fa46a2984b58a5aad109de50bfb0404c8a999869
     "metadata": {},
     "output_type": "execute_result"
    }
   ],
   "source": [
<<<<<<< HEAD
    "## Write your code to load the data\n",
    "titanic = pd.read_csv('./titanic.csv', index_col = 'PassengerId')\n",
    "titanic.head()"
=======
    "# read in the csv file called 'titanic.csv' into a pandas' dataframe and call it 'source_data' whereby its index will be 'PassengerId' (n = 1, 2, 3....891)\n",
    "source_data = pd.read_csv('titanic.csv',index_col = 'PassengerId' )\n",
    "\n",
    "# display the first 10 rows of the dataframe 'source_data' which contains the titanic dataset\n",
    "source_data.head(10)"
>>>>>>> fa46a2984b58a5aad109de50bfb0404c8a999869
   ]
  },
  {
   "cell_type": "markdown",
   "metadata": {},
   "source": [
    "### Take the first look at your data\n",
    "\n",
    "After loading your data, it is most important to see if the data is loaded as expected, you should at least look at _a few rows_ in `source_data`."
   ]
  },
  {
   "cell_type": "code",
<<<<<<< HEAD
   "execution_count": 6,
=======
   "execution_count": 55,
>>>>>>> fa46a2984b58a5aad109de50bfb0404c8a999869
   "metadata": {
    "collapsed": false
   },
   "outputs": [
    {
<<<<<<< HEAD
     "data": {
      "text/html": [
       "<div>\n",
       "<style scoped>\n",
       "    .dataframe tbody tr th:only-of-type {\n",
       "        vertical-align: middle;\n",
       "    }\n",
       "\n",
       "    .dataframe tbody tr th {\n",
       "        vertical-align: top;\n",
       "    }\n",
       "\n",
       "    .dataframe thead th {\n",
       "        text-align: right;\n",
       "    }\n",
       "</style>\n",
       "<table border=\"1\" class=\"dataframe\">\n",
       "  <thead>\n",
       "    <tr style=\"text-align: right;\">\n",
       "      <th></th>\n",
       "      <th>Survived</th>\n",
       "      <th>Pclass</th>\n",
       "      <th>Name</th>\n",
       "      <th>Sex</th>\n",
       "      <th>Age</th>\n",
       "      <th>SibSp</th>\n",
       "      <th>Parch</th>\n",
       "      <th>Ticket</th>\n",
       "      <th>Fare</th>\n",
       "      <th>Cabin</th>\n",
       "      <th>Embarked</th>\n",
       "    </tr>\n",
       "    <tr>\n",
       "      <th>PassengerId</th>\n",
       "      <th></th>\n",
       "      <th></th>\n",
       "      <th></th>\n",
       "      <th></th>\n",
       "      <th></th>\n",
       "      <th></th>\n",
       "      <th></th>\n",
       "      <th></th>\n",
       "      <th></th>\n",
       "      <th></th>\n",
       "      <th></th>\n",
       "    </tr>\n",
       "  </thead>\n",
       "  <tbody>\n",
       "    <tr>\n",
       "      <th>1</th>\n",
       "      <td>0</td>\n",
       "      <td>3</td>\n",
       "      <td>Braund, Mr. Owen Harris</td>\n",
       "      <td>male</td>\n",
       "      <td>22.0</td>\n",
       "      <td>1</td>\n",
       "      <td>0</td>\n",
       "      <td>A/5 21171</td>\n",
       "      <td>7.2500</td>\n",
       "      <td>NaN</td>\n",
       "      <td>S</td>\n",
       "    </tr>\n",
       "    <tr>\n",
       "      <th>2</th>\n",
       "      <td>1</td>\n",
       "      <td>1</td>\n",
       "      <td>Cumings, Mrs. John Bradley (Florence Briggs Th...</td>\n",
       "      <td>female</td>\n",
       "      <td>38.0</td>\n",
       "      <td>1</td>\n",
       "      <td>0</td>\n",
       "      <td>PC 17599</td>\n",
       "      <td>71.2833</td>\n",
       "      <td>C85</td>\n",
       "      <td>C</td>\n",
       "    </tr>\n",
       "    <tr>\n",
       "      <th>3</th>\n",
       "      <td>1</td>\n",
       "      <td>3</td>\n",
       "      <td>Heikkinen, Miss. Laina</td>\n",
       "      <td>female</td>\n",
       "      <td>26.0</td>\n",
       "      <td>0</td>\n",
       "      <td>0</td>\n",
       "      <td>STON/O2. 3101282</td>\n",
       "      <td>7.9250</td>\n",
       "      <td>NaN</td>\n",
       "      <td>S</td>\n",
       "    </tr>\n",
       "    <tr>\n",
       "      <th>4</th>\n",
       "      <td>1</td>\n",
       "      <td>1</td>\n",
       "      <td>Futrelle, Mrs. Jacques Heath (Lily May Peel)</td>\n",
       "      <td>female</td>\n",
       "      <td>35.0</td>\n",
       "      <td>1</td>\n",
       "      <td>0</td>\n",
       "      <td>113803</td>\n",
       "      <td>53.1000</td>\n",
       "      <td>C123</td>\n",
       "      <td>S</td>\n",
       "    </tr>\n",
       "    <tr>\n",
       "      <th>5</th>\n",
       "      <td>0</td>\n",
       "      <td>3</td>\n",
       "      <td>Allen, Mr. William Henry</td>\n",
       "      <td>male</td>\n",
       "      <td>35.0</td>\n",
       "      <td>0</td>\n",
       "      <td>0</td>\n",
       "      <td>373450</td>\n",
       "      <td>8.0500</td>\n",
       "      <td>NaN</td>\n",
       "      <td>S</td>\n",
       "    </tr>\n",
       "  </tbody>\n",
       "</table>\n",
       "</div>"
      ],
      "text/plain": [
       "             Survived  Pclass  \\\n",
       "PassengerId                     \n",
       "1                   0       3   \n",
       "2                   1       1   \n",
       "3                   1       3   \n",
       "4                   1       1   \n",
       "5                   0       3   \n",
       "\n",
       "                                                          Name     Sex   Age  \\\n",
       "PassengerId                                                                    \n",
       "1                                      Braund, Mr. Owen Harris    male  22.0   \n",
       "2            Cumings, Mrs. John Bradley (Florence Briggs Th...  female  38.0   \n",
       "3                                       Heikkinen, Miss. Laina  female  26.0   \n",
       "4                 Futrelle, Mrs. Jacques Heath (Lily May Peel)  female  35.0   \n",
       "5                                     Allen, Mr. William Henry    male  35.0   \n",
       "\n",
       "             SibSp  Parch            Ticket     Fare Cabin Embarked  \n",
       "PassengerId                                                          \n",
       "1                1      0         A/5 21171   7.2500   NaN        S  \n",
       "2                1      0          PC 17599  71.2833   C85        C  \n",
       "3                0      0  STON/O2. 3101282   7.9250   NaN        S  \n",
       "4                1      0            113803  53.1000  C123        S  \n",
       "5                0      0            373450   8.0500   NaN        S  "
      ]
     },
     "execution_count": 6,
     "metadata": {},
     "output_type": "execute_result"
    }
   ],
   "source": [
    "## write your code here\n",
    "titanic.head()"
=======
     "name": "stdout",
     "output_type": "stream",
     "text": [
      "<class 'pandas.core.frame.DataFrame'>\n",
      "Int64Index: 891 entries, 1 to 891\n",
      "Data columns (total 11 columns):\n",
      "Survived    891 non-null int64\n",
      "Pclass      891 non-null int64\n",
      "Name        891 non-null object\n",
      "Sex         891 non-null object\n",
      "Age         714 non-null float64\n",
      "SibSp       891 non-null int64\n",
      "Parch       891 non-null int64\n",
      "Ticket      891 non-null object\n",
      "Fare        891 non-null float64\n",
      "Cabin       204 non-null object\n",
      "Embarked    889 non-null object\n",
      "dtypes: float64(2), int64(4), object(5)\n",
      "memory usage: 83.5+ KB\n"
     ]
    }
   ],
   "source": [
    "# Print a concise summary of the DataFrame 'source_data', including the index data types (dtype) and column data types (dtypes), non-null values and memory usage.\n",
    "# source: https://pandas.pydata.org/pandas-docs/stable/reference/api/pandas.DataFrame.info.html\n",
    "source_data.info()"
   ]
  },
  {
   "cell_type": "code",
   "execution_count": 56,
   "metadata": {},
   "outputs": [
    {
     "data": {
      "text/plain": [
       "Survived      0\n",
       "Pclass        0\n",
       "Name          0\n",
       "Sex           0\n",
       "Age         177\n",
       "SibSp         0\n",
       "Parch         0\n",
       "Ticket        0\n",
       "Fare          0\n",
       "Cabin       687\n",
       "Embarked      2\n",
       "dtype: int64"
      ]
     },
     "execution_count": 56,
     "metadata": {},
     "output_type": "execute_result"
    }
   ],
   "source": [
    "# show the sum of the missing values for each column in the Dataframe 'source_data'\n",
    "# More precisely: the sum of the boolean values of each element in the dataframe which are TRUE (TRUE=1, FALSE=0), when testing if the values are NA (TRUE => msising value, FALSE => non-missing value). \n",
    "# source: https://pandas.pydata.org/pandas-docs/stable/reference/api/pandas.DataFrame.isna.html\n",
    "source_data.isna().sum()"
>>>>>>> fa46a2984b58a5aad109de50bfb0404c8a999869
   ]
  },
  {
   "cell_type": "markdown",
   "metadata": {},
   "source": [
    "You should also check how much data are your playing with, in terms of how many instances (rows) and features (columns)."
   ]
  },
  {
   "cell_type": "code",
<<<<<<< HEAD
   "execution_count": 7,
=======
   "execution_count": 57,
>>>>>>> fa46a2984b58a5aad109de50bfb0404c8a999869
   "metadata": {
    "collapsed": false
   },
   "outputs": [
    {
     "data": {
      "text/plain": [
       "(891, 11)"
      ]
     },
<<<<<<< HEAD
     "execution_count": 7,
=======
     "execution_count": 57,
>>>>>>> fa46a2984b58a5aad109de50bfb0404c8a999869
     "metadata": {},
     "output_type": "execute_result"
    }
   ],
   "source": [
<<<<<<< HEAD
    "## write your code here\n",
    "titanic.shape"
=======
    "# Return a tuple representing the dimensionality of the DataFrame 'source_data'.\n",
    "# source: https://pandas.pydata.org/pandas-docs/stable/reference/api/pandas.DataFrame.shape.html\n",
    "source_data.shape\n",
    "\n",
    "# Dimensions dataframe:\n",
    "# 891 rows\n",
    "# 11 columns"
>>>>>>> fa46a2984b58a5aad109de50bfb0404c8a999869
   ]
  },
  {
   "cell_type": "markdown",
   "metadata": {},
   "source": [
    "### Determining how much data is missing\n",
    "The next step is to check how much data is missing - maybe show them in ratio?"
   ]
  },
  {
   "cell_type": "code",
<<<<<<< HEAD
   "execution_count": 8,
=======
   "execution_count": 58,
>>>>>>> fa46a2984b58a5aad109de50bfb0404c8a999869
   "metadata": {
    "collapsed": false
   },
   "outputs": [
    {
     "data": {
      "text/plain": [
<<<<<<< HEAD
       "Survived     0.000000\n",
       "Pclass       0.000000\n",
       "Name         0.000000\n",
       "Sex          0.000000\n",
       "Age         19.865320\n",
       "SibSp        0.000000\n",
       "Parch        0.000000\n",
       "Ticket       0.000000\n",
       "Fare         0.000000\n",
       "Cabin       77.104377\n",
       "Embarked     0.224467\n",
       "dtype: float64"
      ]
     },
     "execution_count": 8,
=======
       "Survived     0.00\n",
       "Pclass       0.00\n",
       "Name         0.00\n",
       "Sex          0.00\n",
       "Age         19.87\n",
       "SibSp        0.00\n",
       "Parch        0.00\n",
       "Ticket       0.00\n",
       "Fare         0.00\n",
       "Cabin       77.10\n",
       "Embarked     0.22\n",
       "dtype: float64"
      ]
     },
     "execution_count": 58,
>>>>>>> fa46a2984b58a5aad109de50bfb0404c8a999869
     "metadata": {},
     "output_type": "execute_result"
    }
   ],
   "source": [
<<<<<<< HEAD
    "## Write your code here\n",
    "titanic.isna().sum()/titanic.shape[0]*100"
=======
    "# Show the amount of missing elements in each column as a ratio of the total number of elements in that column and calculate this for the entire dataframe called 'source_data', \n",
    "# rounded by the nearest 2 decimal points\n",
    "\n",
    "## 1st method:\n",
    "# by taking the average of all the TRUE values of which are missing (NA) multiplied by 100 to get the ratio in % of missing elements, \n",
    "# in other words: you take the sum of the TRUE values in each column (TRUE=1, FALSE=0) divided by the total number of elements of each column and multiplying by 100 to get the percentage of missing values -\n",
    "# rounded by nearest two decimal points\n",
    "(source_data.isna().mean() * 100).round(2)\n",
    "\n",
    "## 2nd method:\n",
    "#(source_data.isna().sum()/source_data.shape[0]*100).round(2)"
>>>>>>> fa46a2984b58a5aad109de50bfb0404c8a999869
   ]
  },
  {
   "cell_type": "markdown",
   "metadata": {},
   "source": [
    "If a column/feature contains more than __50%__ missing, we will drop it in this analysis."
   ]
  },
  {
   "cell_type": "code",
<<<<<<< HEAD
   "execution_count": 9,
   "metadata": {
    "collapsed": true
   },
   "outputs": [
    {
=======
   "execution_count": 59,
   "metadata": {},
   "outputs": [
    {
     "name": "stdout",
     "output_type": "stream",
     "text": [
      "(891, 10)\n"
     ]
    },
    {
>>>>>>> fa46a2984b58a5aad109de50bfb0404c8a999869
     "data": {
      "text/plain": [
       "Index(['Survived', 'Pclass', 'Name', 'Sex', 'Age', 'SibSp', 'Parch', 'Ticket',\n",
       "       'Fare', 'Embarked'],\n",
       "      dtype='object')"
      ]
     },
<<<<<<< HEAD
     "execution_count": 9,
=======
     "execution_count": 59,
>>>>>>> fa46a2984b58a5aad109de50bfb0404c8a999869
     "metadata": {},
     "output_type": "execute_result"
    }
   ],
<<<<<<< HEAD
   "source": [
    "## write your code here\n",
    "titanic_modified = titanic.copy()\n",
    "titanic_modified=titanic.dropna(thresh=len(titanic) /2 , axis=1)\n",
    "titanic_modified.columns"
=======
   "source": [
    "# method 1\n",
    "# drop the columns which have at least 50% or more missing values (NA)\n",
    "# thresh means it requires that many non-NA values.\n",
    "# the threshhold is set to the length of the dataframe, which is 100% (of the number of rows) divided by 2, in order to get 50% (of the number of rows)\n",
    "# axis=1 means drop column(s) which contain missing values based on the threshold in this case.\n",
    "# source: https://pandas.pydata.org/pandas-docs/stable/reference/api/pandas.DataFrame.dropna.html\n",
    "source_data = source_data.dropna(thresh=len(source_data)/2, axis=1)\n",
    "\n",
    "# method 2\n",
    "#source_data = source_data.dropna(thresh=(df_titanic.shape[0]/2), axis=1, how='all')\n",
    "\n",
    "# test if the column is dropped, namely 'Cabin' with 77.10% missing which is larger than 50% by seeing that the columns are 10 now instead of 11\n",
    "print(source_data.shape)\n",
    "\n",
    "# test again by visually checking the column names left are excluding the column name 'Cabin'\n",
    "source_data.columns"
   ]
  },
  {
   "cell_type": "code",
   "execution_count": 135,
   "metadata": {},
   "outputs": [
    {
     "name": "stdout",
     "output_type": "stream",
     "text": [
      "Survived              0\n",
      "Pclass                0\n",
      "Name                  0\n",
      "Sex                   0\n",
      "Age                 177\n",
      "SibSp                 0\n",
      "Parch                 0\n",
      "Ticket                0\n",
      "Fare                  0\n",
      "Embarked              2\n",
      "Age_imputed           0\n",
      "Embarked_imputed      0\n",
      "dtype: int64\n",
      "*Note: the column 'Cabin' has been deleted from the dataframe\n"
     ]
    }
   ],
   "source": [
    "# show the number of missing values remaining for each column in the dataframe 'source_data' and inspect that the 'Cabin' column is indeed dropped\n",
    "print(source_data.isna().sum())\n",
    "\n",
    "# test if the column 'Cabin' is dropped with a try/except,\n",
    "# try to show the pandas series 'Cabin' (a single column), if this results in an error, than print the message to user that 'Cabin' has been deleted from the dataframe\n",
    "try:\n",
    "    source_data['Cabin']\n",
    "except:\n",
    "    print('*Note: the column \\'Cabin\\' has been deleted from the dataframe')"
   ]
  },
  {
   "cell_type": "code",
   "execution_count": 174,
   "metadata": {},
   "outputs": [
    {
     "name": "stdout",
     "output_type": "stream",
     "text": [
      "Index(['Age', 'Embarked'], dtype='object')\n"
     ]
    }
   ],
   "source": [
    "## Method 1 - Test code\n",
    "# Test which columns have (more than zero) >0 missing elements \n",
    "#criteria = (source_data.loc[:,:].isna().sum() > 0)\n",
    "# Show for which columns the condition holds True or False\n",
    "#print(criteria)\n",
    "\n",
    "## Method 2 - Test code\n",
    "# Test which columns have less than 50% missing AND more than 0% missing\n",
    "criteria = ((source_data.isna().mean() * 100).round(2) < 50) & ((source_data.isna().mean() * 100).round(2) > 0)\n",
    "\n",
    "# Show only the columns for which the following condition holds TRUE: <50% missing AND >0% missing elements\n",
    "# source: https://stackoverflow.com/questions/29281815/pandas-select-dataframe-columns-using-boolean\n",
    "print(source_data[criteria.index[criteria]].columns)"
>>>>>>> fa46a2984b58a5aad109de50bfb0404c8a999869
   ]
  },
  {
   "cell_type": "markdown",
   "metadata": {},
   "source": [
    "If a column contains less that __50%__ missing, you shoud consider impute it.\n",
    "- If the feature is __continuous__, you should consider using the _mean/median_;\n",
    "- If it is __categorical__, you shoud consider using the _mode_.\n",
    "\n",
    "Create new columns for imputed features. For instance, if the original feature is named `x`, your imputed feature should be `x_imputed`."
   ]
  },
  {
   "cell_type": "code",
<<<<<<< HEAD
   "execution_count": 10,
=======
   "execution_count": 95,
>>>>>>> fa46a2984b58a5aad109de50bfb0404c8a999869
   "metadata": {
    "collapsed": true
   },
   "outputs": [
    {
<<<<<<< HEAD
     "data": {
      "text/plain": [
       "Survived        0.000000\n",
       "Pclass          0.000000\n",
       "Name            0.000000\n",
       "Sex             0.000000\n",
       "Age            19.865320\n",
       "SibSp           0.000000\n",
       "Parch           0.000000\n",
       "Ticket          0.000000\n",
       "Fare            0.000000\n",
       "Embarked        0.224467\n",
       "Age_imputed     0.000000\n",
       "dtype: float64"
      ]
     },
     "execution_count": 10,
=======
     "name": "stdout",
     "output_type": "stream",
     "text": [
      "mean of Age column:  29.69911764705882\n",
      "mode of Embarked column:  S\n"
     ]
    },
    {
     "data": {
      "text/html": [
       "<div>\n",
       "<style scoped>\n",
       "    .dataframe tbody tr th:only-of-type {\n",
       "        vertical-align: middle;\n",
       "    }\n",
       "\n",
       "    .dataframe tbody tr th {\n",
       "        vertical-align: top;\n",
       "    }\n",
       "\n",
       "    .dataframe thead th {\n",
       "        text-align: right;\n",
       "    }\n",
       "</style>\n",
       "<table border=\"1\" class=\"dataframe\">\n",
       "  <thead>\n",
       "    <tr style=\"text-align: right;\">\n",
       "      <th></th>\n",
       "      <th>Survived</th>\n",
       "      <th>Pclass</th>\n",
       "      <th>Name</th>\n",
       "      <th>Sex</th>\n",
       "      <th>Age</th>\n",
       "      <th>SibSp</th>\n",
       "      <th>Parch</th>\n",
       "      <th>Ticket</th>\n",
       "      <th>Fare</th>\n",
       "      <th>Embarked</th>\n",
       "      <th>Age_imputed</th>\n",
       "      <th>Embarked_imputed</th>\n",
       "    </tr>\n",
       "    <tr>\n",
       "      <th>PassengerId</th>\n",
       "      <th></th>\n",
       "      <th></th>\n",
       "      <th></th>\n",
       "      <th></th>\n",
       "      <th></th>\n",
       "      <th></th>\n",
       "      <th></th>\n",
       "      <th></th>\n",
       "      <th></th>\n",
       "      <th></th>\n",
       "      <th></th>\n",
       "      <th></th>\n",
       "    </tr>\n",
       "  </thead>\n",
       "  <tbody>\n",
       "    <tr>\n",
       "      <th>887</th>\n",
       "      <td>0</td>\n",
       "      <td>2</td>\n",
       "      <td>Montvila, Rev. Juozas</td>\n",
       "      <td>male</td>\n",
       "      <td>27.0</td>\n",
       "      <td>0</td>\n",
       "      <td>0</td>\n",
       "      <td>211536</td>\n",
       "      <td>13.00</td>\n",
       "      <td>S</td>\n",
       "      <td>27.0</td>\n",
       "      <td>S</td>\n",
       "    </tr>\n",
       "    <tr>\n",
       "      <th>888</th>\n",
       "      <td>1</td>\n",
       "      <td>1</td>\n",
       "      <td>Graham, Miss. Margaret Edith</td>\n",
       "      <td>female</td>\n",
       "      <td>19.0</td>\n",
       "      <td>0</td>\n",
       "      <td>0</td>\n",
       "      <td>112053</td>\n",
       "      <td>30.00</td>\n",
       "      <td>S</td>\n",
       "      <td>19.0</td>\n",
       "      <td>S</td>\n",
       "    </tr>\n",
       "    <tr>\n",
       "      <th>889</th>\n",
       "      <td>0</td>\n",
       "      <td>3</td>\n",
       "      <td>Johnston, Miss. Catherine Helen \"Carrie\"</td>\n",
       "      <td>female</td>\n",
       "      <td>NaN</td>\n",
       "      <td>1</td>\n",
       "      <td>2</td>\n",
       "      <td>W./C. 6607</td>\n",
       "      <td>23.45</td>\n",
       "      <td>S</td>\n",
       "      <td>29.7</td>\n",
       "      <td>S</td>\n",
       "    </tr>\n",
       "    <tr>\n",
       "      <th>890</th>\n",
       "      <td>1</td>\n",
       "      <td>1</td>\n",
       "      <td>Behr, Mr. Karl Howell</td>\n",
       "      <td>male</td>\n",
       "      <td>26.0</td>\n",
       "      <td>0</td>\n",
       "      <td>0</td>\n",
       "      <td>111369</td>\n",
       "      <td>30.00</td>\n",
       "      <td>C</td>\n",
       "      <td>26.0</td>\n",
       "      <td>C</td>\n",
       "    </tr>\n",
       "    <tr>\n",
       "      <th>891</th>\n",
       "      <td>0</td>\n",
       "      <td>3</td>\n",
       "      <td>Dooley, Mr. Patrick</td>\n",
       "      <td>male</td>\n",
       "      <td>32.0</td>\n",
       "      <td>0</td>\n",
       "      <td>0</td>\n",
       "      <td>370376</td>\n",
       "      <td>7.75</td>\n",
       "      <td>Q</td>\n",
       "      <td>32.0</td>\n",
       "      <td>Q</td>\n",
       "    </tr>\n",
       "  </tbody>\n",
       "</table>\n",
       "</div>"
      ],
      "text/plain": [
       "            Survived Pclass                                      Name     Sex  \\\n",
       "PassengerId                                                                     \n",
       "887                0      2                     Montvila, Rev. Juozas    male   \n",
       "888                1      1              Graham, Miss. Margaret Edith  female   \n",
       "889                0      3  Johnston, Miss. Catherine Helen \"Carrie\"  female   \n",
       "890                1      1                     Behr, Mr. Karl Howell    male   \n",
       "891                0      3                       Dooley, Mr. Patrick    male   \n",
       "\n",
       "              Age  SibSp  Parch      Ticket   Fare Embarked  Age_imputed  \\\n",
       "PassengerId                                                                \n",
       "887          27.0      0      0      211536  13.00        S         27.0   \n",
       "888          19.0      0      0      112053  30.00        S         19.0   \n",
       "889           NaN      1      2  W./C. 6607  23.45        S         29.7   \n",
       "890          26.0      0      0      111369  30.00        C         26.0   \n",
       "891          32.0      0      0      370376   7.75        Q         32.0   \n",
       "\n",
       "            Embarked_imputed  \n",
       "PassengerId                   \n",
       "887                        S  \n",
       "888                        S  \n",
       "889                        S  \n",
       "890                        C  \n",
       "891                        Q  "
      ]
     },
     "execution_count": 95,
>>>>>>> fa46a2984b58a5aad109de50bfb0404c8a999869
     "metadata": {},
     "output_type": "execute_result"
    }
   ],
   "source": [
<<<<<<< HEAD
    "## write your code here\n",
    "titanic_modified['Age_imputed']=titanic_modified['Age'].fillna(titanic_modified['Age'].mean())\n",
    "titanic_modified\n",
    "titanic_modified.isna().sum()/titanic_modified.shape[0]*100"
=======
    "# for all the remaining columns which have less than 50% elements missing and more than 0% elements missing, \n",
    "# which are the columns 'Age' and 'Embarked' as seen in the previous code-block for the dataframe 'source_data'\n",
    "# we create new columns, named 'Age_umputed' and 'Embarked_imputed', whereby the elements that are missing will be replaced by the mean and the mode respectively\n",
    "source_data[\"Age_imputed\"] = source_data[\"Age\"].fillna(source_data[\"Age\"].mean()).round(2)\n",
    "source_data['Embarked_imputed'] = source_data['Embarked'].fillna(source_data['Embarked'].mode()[0])\n",
    "\n",
    "# show the mean of the 'Age' column\n",
    "print('mean of Age column: ', source_data['Age'].mean())\n",
    "# show the mode of the 'Embarked' column\n",
    "print('mode of Embarked column: ', source_data['Embarked'].mode()[0])\n",
    "\n",
    "## Test 1 - Visually\n",
    "# test previous code if the mean of the age column is replacing the former missing values (NaN) by visually inspecting the dataframe's last 5 rows\n",
    "# row 889 has a missing element (NaN) for the 'Age' column and 'Age_imputed' has the value of 29.7 in the same row, which is the same value as the calculated mean for the Age column\n",
    "# conclusion: the missing element in the of 'Age' is correctly replaced by the average of the age in the 'Age_imputed' column\n",
    "source_data.tail(5)"
>>>>>>> fa46a2984b58a5aad109de50bfb0404c8a999869
   ]
  },
  {
   "cell_type": "code",
<<<<<<< HEAD
   "execution_count": 11,
   "metadata": {},
   "outputs": [
    {
     "data": {
      "text/plain": [
       "Survived              0\n",
       "Pclass                0\n",
       "Name                  0\n",
       "Sex                   0\n",
       "Age                 177\n",
       "SibSp                 0\n",
       "Parch                 0\n",
       "Ticket                0\n",
       "Fare                  0\n",
       "Embarked              2\n",
       "Age_imputed           0\n",
       "Embarked_imputed      0\n",
       "dtype: int64"
      ]
     },
     "execution_count": 11,
=======
   "execution_count": 96,
   "metadata": {},
   "outputs": [
    {
     "name": "stdout",
     "output_type": "stream",
     "text": [
      "Survived              0\n",
      "Pclass                0\n",
      "Name                  0\n",
      "Sex                   0\n",
      "Age                 177\n",
      "SibSp                 0\n",
      "Parch                 0\n",
      "Ticket                0\n",
      "Fare                  0\n",
      "Embarked              2\n",
      "Age_imputed           0\n",
      "Embarked_imputed      0\n",
      "dtype: int64\n"
     ]
    },
    {
     "data": {
      "text/plain": [
       "Age_imputed         True\n",
       "Embarked_imputed    True\n",
       "dtype: bool"
      ]
     },
     "execution_count": 96,
>>>>>>> fa46a2984b58a5aad109de50bfb0404c8a999869
     "metadata": {},
     "output_type": "execute_result"
    }
   ],
   "source": [
<<<<<<< HEAD
    "titanic_modified['Embarked_imputed']=titanic_modified['Embarked'].fillna(titanic_modified['Embarked'].mode()[0])\n",
    "titanic_modified.isna().sum()\n"
=======
    "## Test 2 - Code\n",
    "# test previous code if 'Age_imputed' and 'Embarked_imputed' have indeed 0 missing values (NaN)\n",
    "# show the number of missing values for each column in the dataframe 'source_data'\n",
    "print(source_data.isna().sum())\n",
    "\n",
    "## Test 3 - Code / Boolean\n",
    "# test previous code with a boolean statement that both newly added columns 'Age_imputed' and 'Emarked_imputed' have 0 missing values (because we replaced them earlier with the mean and mode)\n",
    "source_data[['Age_imputed', 'Embarked_imputed']].isna().sum() == 0"
>>>>>>> fa46a2984b58a5aad109de50bfb0404c8a999869
   ]
  },
  {
   "cell_type": "markdown",
   "metadata": {},
   "source": [
    "### Check your data types\n",
    "You should always check the data types after loading the data. First, check the data types (you can use `.dtypes` or `.info()`."
   ]
  },
  {
   "cell_type": "code",
<<<<<<< HEAD
   "execution_count": 12,
=======
   "execution_count": 103,
>>>>>>> fa46a2984b58a5aad109de50bfb0404c8a999869
   "metadata": {
    "collapsed": false
   },
   "outputs": [
    {
<<<<<<< HEAD
     "name": "stdout",
     "output_type": "stream",
     "text": [
      "<class 'pandas.core.frame.DataFrame'>\n",
      "Int64Index: 891 entries, 1 to 891\n",
      "Data columns (total 12 columns):\n",
      "Survived            891 non-null int64\n",
      "Pclass              891 non-null int64\n",
      "Name                891 non-null object\n",
      "Sex                 891 non-null object\n",
      "Age                 714 non-null float64\n",
      "SibSp               891 non-null int64\n",
      "Parch               891 non-null int64\n",
      "Ticket              891 non-null object\n",
      "Fare                891 non-null float64\n",
      "Embarked            889 non-null object\n",
      "Age_imputed         891 non-null float64\n",
      "Embarked_imputed    891 non-null object\n",
      "dtypes: float64(3), int64(4), object(5)\n",
      "memory usage: 90.5+ KB\n"
     ]
    }
   ],
   "source": [
    "## Write your code here\n",
    "titanic_modified.dtypes\n",
    "titanic_modified.info()"
=======
     "data": {
      "text/plain": [
       "Survived            category\n",
       "Pclass              category\n",
       "Name                  object\n",
       "Sex                 category\n",
       "Age                  float64\n",
       "SibSp                  int64\n",
       "Parch                  int64\n",
       "Ticket                object\n",
       "Fare                 float64\n",
       "Embarked              object\n",
       "Age_imputed          float64\n",
       "Embarked_imputed      object\n",
       "dtype: object"
      ]
     },
     "execution_count": 103,
     "metadata": {},
     "output_type": "execute_result"
    }
   ],
   "source": [
    "## show the data types of each column in the pandas dataframe\n",
    "# method 1\n",
    "source_data.dtypes\n",
    "\n",
    "# method 2\n",
    "#source_data.info()"
>>>>>>> fa46a2984b58a5aad109de50bfb0404c8a999869
   ]
  },
  {
   "cell_type": "markdown",
   "metadata": {},
   "source": [
    "If you see anything not correct above, you should fix it below. Otherwise, write a comment to yourself stating __all data types are correct__."
   ]
  },
  {
   "cell_type": "code",
<<<<<<< HEAD
   "execution_count": 13,
=======
   "execution_count": 65,
>>>>>>> fa46a2984b58a5aad109de50bfb0404c8a999869
   "metadata": {
    "collapsed": true
   },
   "outputs": [
    {
     "name": "stdout",
     "output_type": "stream",
     "text": [
      "<class 'pandas.core.frame.DataFrame'>\n",
      "Int64Index: 891 entries, 1 to 891\n",
      "Data columns (total 12 columns):\n",
      "Survived            891 non-null category\n",
      "Pclass              891 non-null category\n",
      "Name                891 non-null object\n",
      "Sex                 891 non-null category\n",
      "Age                 714 non-null float64\n",
      "SibSp               891 non-null int64\n",
      "Parch               891 non-null int64\n",
      "Ticket              891 non-null object\n",
      "Fare                891 non-null float64\n",
      "Embarked            889 non-null object\n",
      "Age_imputed         891 non-null float64\n",
      "Embarked_imputed    891 non-null object\n",
      "dtypes: category(3), float64(3), int64(2), object(4)\n",
      "memory usage: 72.5+ KB\n"
     ]
    }
   ],
   "source": [
<<<<<<< HEAD
    "## Write your code here\n",
    "titanic_modified['Pclass'] = titanic_modified['Pclass'].astype('category')\n",
    "titanic_modified['Sex'] = titanic_modified['Sex'].astype('category')\n",
    "titanic_modified['Survived'] = titanic_modified['Survived'].astype('category')\n",
    "titanic_modified.info()"
=======
    "# all data types are correct except the 'Pclass', 'Sex' and 'Survived' columns which are categorical\n",
    "# that is why we change the dtype of each of these 3 in turn and overwrite the old data  (dtype)\n",
    "source_data['Pclass'] = source_data['Pclass'].astype('category')\n",
    "source_data['Sex'] = source_data['Sex'].astype('category')\n",
    "source_data['Survived'] = source_data['Survived'].astype('category')\n",
    "source_data.info()"
>>>>>>> fa46a2984b58a5aad109de50bfb0404c8a999869
   ]
  },
  {
   "cell_type": "markdown",
   "metadata": {},
   "source": [
    "## Step 2: Descriptive Stats\n",
    "\n",
    "No matter what analytical questions you try to develop/answer, there are some basic statistical questions you need to answer. \n",
    "\n",
    "These descriptive statistical analysis can help you gain more insights about your data, to further/tweak your main analytical questions."
   ]
  },
  {
   "cell_type": "markdown",
   "metadata": {},
   "source": [
    "### Overall descriptive Stats\n",
    "\n",
    "For any DataFrame, we should consider look at the generic descriptive statistics, such as _mean_, _median_, _# of unique values_, _standard deviation_, ...\n",
    "\n",
    "`Pandas` provides a method for that."
   ]
  },
  {
   "cell_type": "code",
<<<<<<< HEAD
   "execution_count": 14,
=======
   "execution_count": 66,
>>>>>>> fa46a2984b58a5aad109de50bfb0404c8a999869
   "metadata": {
    "collapsed": false
   },
   "outputs": [
    {
     "data": {
      "text/html": [
       "<div>\n",
       "<style scoped>\n",
       "    .dataframe tbody tr th:only-of-type {\n",
       "        vertical-align: middle;\n",
       "    }\n",
       "\n",
       "    .dataframe tbody tr th {\n",
       "        vertical-align: top;\n",
       "    }\n",
       "\n",
       "    .dataframe thead th {\n",
       "        text-align: right;\n",
       "    }\n",
       "</style>\n",
       "<table border=\"1\" class=\"dataframe\">\n",
       "  <thead>\n",
       "    <tr style=\"text-align: right;\">\n",
       "      <th></th>\n",
       "      <th>Age</th>\n",
       "      <th>SibSp</th>\n",
       "      <th>Parch</th>\n",
       "      <th>Fare</th>\n",
       "      <th>Age_imputed</th>\n",
       "    </tr>\n",
       "  </thead>\n",
       "  <tbody>\n",
       "    <tr>\n",
       "      <th>count</th>\n",
       "      <td>714.000000</td>\n",
       "      <td>891.000000</td>\n",
       "      <td>891.000000</td>\n",
       "      <td>891.000000</td>\n",
       "      <td>891.000000</td>\n",
       "    </tr>\n",
       "    <tr>\n",
       "      <th>mean</th>\n",
       "      <td>29.699118</td>\n",
       "      <td>0.523008</td>\n",
       "      <td>0.381594</td>\n",
       "      <td>32.204208</td>\n",
<<<<<<< HEAD
       "      <td>29.699118</td>\n",
=======
       "      <td>29.699293</td>\n",
>>>>>>> fa46a2984b58a5aad109de50bfb0404c8a999869
       "    </tr>\n",
       "    <tr>\n",
       "      <th>std</th>\n",
       "      <td>14.526497</td>\n",
       "      <td>1.102743</td>\n",
       "      <td>0.806057</td>\n",
       "      <td>49.693429</td>\n",
       "      <td>13.002015</td>\n",
       "    </tr>\n",
       "    <tr>\n",
       "      <th>min</th>\n",
       "      <td>0.420000</td>\n",
       "      <td>0.000000</td>\n",
       "      <td>0.000000</td>\n",
       "      <td>0.000000</td>\n",
       "      <td>0.420000</td>\n",
       "    </tr>\n",
       "    <tr>\n",
       "      <th>25%</th>\n",
       "      <td>20.125000</td>\n",
       "      <td>0.000000</td>\n",
       "      <td>0.000000</td>\n",
       "      <td>7.910400</td>\n",
       "      <td>22.000000</td>\n",
       "    </tr>\n",
       "    <tr>\n",
       "      <th>50%</th>\n",
       "      <td>28.000000</td>\n",
       "      <td>0.000000</td>\n",
       "      <td>0.000000</td>\n",
       "      <td>14.454200</td>\n",
<<<<<<< HEAD
       "      <td>29.699118</td>\n",
=======
       "      <td>29.700000</td>\n",
>>>>>>> fa46a2984b58a5aad109de50bfb0404c8a999869
       "    </tr>\n",
       "    <tr>\n",
       "      <th>75%</th>\n",
       "      <td>38.000000</td>\n",
       "      <td>1.000000</td>\n",
       "      <td>0.000000</td>\n",
       "      <td>31.000000</td>\n",
       "      <td>35.000000</td>\n",
       "    </tr>\n",
       "    <tr>\n",
       "      <th>max</th>\n",
       "      <td>80.000000</td>\n",
       "      <td>8.000000</td>\n",
       "      <td>6.000000</td>\n",
       "      <td>512.329200</td>\n",
       "      <td>80.000000</td>\n",
       "    </tr>\n",
       "  </tbody>\n",
       "</table>\n",
       "</div>"
      ],
      "text/plain": [
       "              Age       SibSp       Parch        Fare  Age_imputed\n",
       "count  714.000000  891.000000  891.000000  891.000000   891.000000\n",
<<<<<<< HEAD
       "mean    29.699118    0.523008    0.381594   32.204208    29.699118\n",
       "std     14.526497    1.102743    0.806057   49.693429    13.002015\n",
       "min      0.420000    0.000000    0.000000    0.000000     0.420000\n",
       "25%     20.125000    0.000000    0.000000    7.910400    22.000000\n",
       "50%     28.000000    0.000000    0.000000   14.454200    29.699118\n",
=======
       "mean    29.699118    0.523008    0.381594   32.204208    29.699293\n",
       "std     14.526497    1.102743    0.806057   49.693429    13.002015\n",
       "min      0.420000    0.000000    0.000000    0.000000     0.420000\n",
       "25%     20.125000    0.000000    0.000000    7.910400    22.000000\n",
       "50%     28.000000    0.000000    0.000000   14.454200    29.700000\n",
>>>>>>> fa46a2984b58a5aad109de50bfb0404c8a999869
       "75%     38.000000    1.000000    0.000000   31.000000    35.000000\n",
       "max     80.000000    8.000000    6.000000  512.329200    80.000000"
      ]
     },
<<<<<<< HEAD
     "execution_count": 14,
=======
     "execution_count": 66,
>>>>>>> fa46a2984b58a5aad109de50bfb0404c8a999869
     "metadata": {},
     "output_type": "execute_result"
    }
   ],
   "source": [
    "## Write your code here\n",
<<<<<<< HEAD
    "titanic_modified.describe()"
=======
    "source_data.describe()"
>>>>>>> fa46a2984b58a5aad109de50bfb0404c8a999869
   ]
  },
  {
   "cell_type": "markdown",
   "metadata": {},
   "source": [
    "### How many survived?\n",
    "\n",
    "First thing you may want to know is how many have survived, maybe through a bar chart comparison?"
   ]
  },
  {
   "cell_type": "code",
<<<<<<< HEAD
   "execution_count": 15,
=======
   "execution_count": 310,
>>>>>>> fa46a2984b58a5aad109de50bfb0404c8a999869
   "metadata": {
    "collapsed": false
   },
   "outputs": [
    {
     "data": {
      "text/plain": [
<<<<<<< HEAD
       "<matplotlib.axes._subplots.AxesSubplot at 0x7fd271ef9f28>"
      ]
     },
     "execution_count": 15,
=======
       "<matplotlib.axes._subplots.AxesSubplot at 0x7febced123c8>"
      ]
     },
     "execution_count": 310,
>>>>>>> fa46a2984b58a5aad109de50bfb0404c8a999869
     "metadata": {},
     "output_type": "execute_result"
    },
    {
     "data": {
<<<<<<< HEAD
      "image/png": "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\n",
=======
      "image/png": "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\n",
>>>>>>> fa46a2984b58a5aad109de50bfb0404c8a999869
      "text/plain": [
       "<Figure size 432x288 with 1 Axes>"
      ]
     },
<<<<<<< HEAD
     "metadata": {
      "needs_background": "light"
     },
=======
     "metadata": {},
>>>>>>> fa46a2984b58a5aad109de50bfb0404c8a999869
     "output_type": "display_data"
    }
   ],
   "source": [
    "## Write your code here\n",
<<<<<<< HEAD
    "titanic_modified['Survived'].value_counts().sort_index().plot(kind='bar')"
=======
    "source_data['Survived'].value_counts().sort_index().plot(kind='bar', rot=0)"
>>>>>>> fa46a2984b58a5aad109de50bfb0404c8a999869
   ]
  },
  {
   "cell_type": "markdown",
   "metadata": {},
   "source": [
    "### Answer the question:\n",
    "\n",
    "__What can you learn from above figure?__ Write your answer below:\n",
    "\n"
   ]
  },
  {
   "cell_type": "markdown",
   "metadata": {},
   "source": [
    "### How many male vs. female?\n",
    "Gender (`sex`) is another important feature to group your instances. You may want to check the distribution as well."
   ]
  },
  {
   "cell_type": "code",
<<<<<<< HEAD
   "execution_count": 16,
=======
   "execution_count": 323,
>>>>>>> fa46a2984b58a5aad109de50bfb0404c8a999869
   "metadata": {
    "collapsed": false
   },
   "outputs": [
    {
<<<<<<< HEAD
     "data": {
      "text/plain": [
       "<matplotlib.axes._subplots.AxesSubplot at 0x7fd26fdc4ac8>"
      ]
     },
     "execution_count": 16,
=======
     "name": "stdout",
     "output_type": "stream",
     "text": [
      "number of females:  314\n",
      "number of males:  577\n"
     ]
    },
    {
     "data": {
      "text/plain": [
       "<matplotlib.axes._subplots.AxesSubplot at 0x7febce9fde10>"
      ]
     },
     "execution_count": 323,
>>>>>>> fa46a2984b58a5aad109de50bfb0404c8a999869
     "metadata": {},
     "output_type": "execute_result"
    },
    {
     "data": {
<<<<<<< HEAD
      "image/png": "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\n",
=======
      "image/png": "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\n",
>>>>>>> fa46a2984b58a5aad109de50bfb0404c8a999869
      "text/plain": [
       "<Figure size 432x288 with 1 Axes>"
      ]
     },
<<<<<<< HEAD
     "metadata": {
      "needs_background": "light"
     },
=======
     "metadata": {},
>>>>>>> fa46a2984b58a5aad109de50bfb0404c8a999869
     "output_type": "display_data"
    }
   ],
   "source": [
<<<<<<< HEAD
    "## Write your code here\n",
    "titanic_modified['Sex'].value_counts().sort_index().plot(kind='bar')"
=======
    "# calculate the number of females on the titanic\n",
    "print('number of females: ', (source_data['Sex'] == 'female').sum())\n",
    "\n",
    "# calculate the number of males on the titanic\n",
    "print('number of males: ', (source_data['Sex'] == 'male').sum())\n",
    "\n",
    "# plot the barchart of of the number of males and females based on the 'Sex' column of the pandas' dataframe 'soure_data'\n",
    "source_data['Sex'].value_counts().sort_index().plot(kind='bar', rot=0)"
>>>>>>> fa46a2984b58a5aad109de50bfb0404c8a999869
   ]
  },
  {
   "cell_type": "markdown",
   "metadata": {},
   "source": [
    "### Answer the question:\n",
    "\n",
    "__What can you learn from above figure?__ Write your answer below:\n"
   ]
  },
  {
   "cell_type": "code",
   "execution_count": 317,
   "metadata": {},
   "outputs": [
    {
     "name": "stdout",
     "output_type": "stream",
     "text": [
      "number of males:  577\n",
      "number of females:  314\n"
     ]
    }
   ],
   "source": [
    "# we can infer from the barchart that there are almost twice as many males compared to females on board of the titanic, namely a little over 300 females (314) and almost 580 males (577)"
   ]
  },
  {
   "cell_type": "markdown",
   "metadata": {},
   "source": [
    "### Different classes\n",
    "Look at the distribution of different classes are also important."
   ]
  },
  {
   "cell_type": "code",
<<<<<<< HEAD
   "execution_count": 17,
=======
   "execution_count": 309,
>>>>>>> fa46a2984b58a5aad109de50bfb0404c8a999869
   "metadata": {
    "collapsed": false
   },
   "outputs": [
    {
     "data": {
      "text/plain": [
<<<<<<< HEAD
       "<matplotlib.axes._subplots.AxesSubplot at 0x7fd26fd35d30>"
      ]
     },
     "execution_count": 17,
=======
       "<matplotlib.axes._subplots.AxesSubplot at 0x7febcea1b0b8>"
      ]
     },
     "execution_count": 309,
>>>>>>> fa46a2984b58a5aad109de50bfb0404c8a999869
     "metadata": {},
     "output_type": "execute_result"
    },
    {
     "data": {
<<<<<<< HEAD
      "image/png": "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\n",
=======
      "image/png": "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\n",
>>>>>>> fa46a2984b58a5aad109de50bfb0404c8a999869
      "text/plain": [
       "<Figure size 432x288 with 1 Axes>"
      ]
     },
<<<<<<< HEAD
     "metadata": {
      "needs_background": "light"
     },
=======
     "metadata": {},
>>>>>>> fa46a2984b58a5aad109de50bfb0404c8a999869
     "output_type": "display_data"
    }
   ],
   "source": [
<<<<<<< HEAD
    "## Write your code here\n",
    "titanic_modified['Pclass'].value_counts().sort_index().plot(kind='bar')"
=======
    "# Plot a Pie chart of 'Pclass'\n",
    "source_data['Pclass'].value_counts().sort_index().plot(kind='pie')"
   ]
  },
  {
   "cell_type": "code",
   "execution_count": 301,
   "metadata": {},
   "outputs": [
    {
     "data": {
      "text/plain": [
       "3    55.106622\n",
       "1    24.242424\n",
       "2    20.650954\n",
       "Name: Pclass, dtype: float64"
      ]
     },
     "execution_count": 301,
     "metadata": {},
     "output_type": "execute_result"
    }
   ],
   "source": [
    "# Calculate the % of each class within 'Pclass'\n",
    "source_data['Pclass'].value_counts()/source_data['Pclass'].shape[0]*100\n",
    "\n",
    "# find unique elements of 'Pclass' and sort them\n",
    "#sorted(source_data['Pclass'].unique())"
   ]
  },
  {
   "cell_type": "code",
   "execution_count": 324,
   "metadata": {},
   "outputs": [
    {
     "data": {
      "image/png": "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\n",
      "text/plain": [
       "<Figure size 432x288 with 1 Axes>"
      ]
     },
     "metadata": {},
     "output_type": "display_data"
    }
   ],
   "source": [
    "# Pie chart, where the slices will be ordered and plotted counter-clockwise:\n",
    "# source: https://matplotlib.org/3.1.1/gallery/pie_and_polar_charts/pie_features.html#sphx-glr-gallery-pie-and-polar-charts-pie-features-py\n",
    "# source: https://matplotlib.org/3.1.1/api/_as_gen/matplotlib.pyplot.pie.html#matplotlib.pyplot.pie\n",
    "\n",
    "# define the labels for each piece of the pie-chart based on the order or the previous codeblock (3-1-2)\n",
    "labels = '3rd class', '1st class', '2nd class'\n",
    "\n",
    "# define the sizes of the pie chart in percentages\n",
    "#sizes = [55.1, 24.2, 20.7]\n",
    "sizes = (source_data['Pclass'].value_counts()/source_data['Pclass'].shape[0]*100)\n",
    "\n",
    "# set which slice should be seperated/exploded from the other parts of the pie and how much\n",
    "explode = (0.1, 0, 0)  # only \"explode\" the 1st slice\n",
    "\n",
    "# Creates just a figure and only one subplot - from the matplotlib library which is a 2D plotting library\n",
    "# source: https://matplotlib.org/3.1.1/api/_as_gen/matplotlib.pyplot.subplots.html\n",
    "fig_Pclass, ax1 = plt.subplots()\n",
    "\n",
    "# define the pie chart features, define sizes, explode, labels, autopct %, shadow, startangle\n",
    "ax1.pie(sizes, explode=explode, labels=labels, autopct='%1.1f%%', shadow=True, startangle=90)\n",
    "\n",
    "# set the title of the pie chart and the aspect ratio to equal\n",
    "ax1.set(aspect=\"equal\", title='Pie Chart of `Pclass`') # Equal aspect ratio ensures that pie is drawn as a circle.\n",
    "\n",
    "# Plot the Pie-chart of 'Pclass'\n",
    "plt.show()"
>>>>>>> fa46a2984b58a5aad109de50bfb0404c8a999869
   ]
  },
  {
   "cell_type": "markdown",
   "metadata": {},
   "source": [
    "### Answer the question:\n",
    "\n",
    "__What can you learn from above figure?__ Write your answer below:"
   ]
  },
  {
   "cell_type": "code",
   "execution_count": null,
   "metadata": {},
   "outputs": [],
   "source": [
    "# From the Pie chart it becomes clear that 24.2% were traveling 1st class, 20.7% were traveling 2nd class and 55.1% were traveling 3rd class. Whereby 3rd class > 1st class > 2nd class. "
   ]
  },
  {
   "cell_type": "markdown",
   "metadata": {},
   "source": [
    "### How is age distributed?\n",
    "\n",
    "Looking at the age distribution of the passengers may also be useful."
   ]
  },
  {
   "cell_type": "code",
<<<<<<< HEAD
   "execution_count": 18,
=======
   "execution_count": 106,
>>>>>>> fa46a2984b58a5aad109de50bfb0404c8a999869
   "metadata": {
    "collapsed": false
   },
   "outputs": [
    {
     "data": {
      "text/plain": [
<<<<<<< HEAD
       "<matplotlib.axes._subplots.AxesSubplot at 0x7fd26fd0db38>"
      ]
     },
     "execution_count": 18,
=======
       "<matplotlib.axes._subplots.AxesSubplot at 0x7f02101a84e0>"
      ]
     },
     "execution_count": 106,
>>>>>>> fa46a2984b58a5aad109de50bfb0404c8a999869
     "metadata": {},
     "output_type": "execute_result"
    },
    {
     "data": {
<<<<<<< HEAD
      "image/png": "iVBORw0KGgoAAAANSUhEUgAAAa0AAAD1CAYAAADj/KoZAAAABHNCSVQICAgIfAhkiAAAAAlwSFlzAAALEgAACxIB0t1+/AAAADh0RVh0U29mdHdhcmUAbWF0cGxvdGxpYiB2ZXJzaW9uMy4xLjEsIGh0dHA6Ly9tYXRwbG90bGliLm9yZy8QZhcZAAAVa0lEQVR4nO3dfbBkdX3n8fcHUHTEXECUHR7WweyVLFBxjMBKROVBIxoX1KpEqFWJWkms1Y2mrM2KRo3rstlNiJraNZqKPCUmKCug1BQbpdDozpYPI4owCNigE5gBGUW5WsElgN/9o88dei5zZ27fud3nnJn3q6qrz/n1w/ncW33nM33Or0+nqpAkqQ/2aTuAJElLZWlJknrD0pIk9YalJUnqDUtLktQb+7UdYLnm5uac9ihJe7iZmZmMrvtOS5LUG5aWJKk39trSGgwGbUdYMrNOhlknw6yTYdahvba0JEn9Y2lJknrD0pIk9YalJUnqDUtLktQblpYkqTemUlpJLkqyNcnGkbFPJrmhuWxKckMzvibJz0Zu++g0MkqSum9ap3G6BPifwF/PD1TVq+eXk/wZMDdy/zuqau2UsmnEgRdv2c1nWAXrd/c54P7XH77bzyFpzzOV0qqqLyVZs6PbkgT4TeC0aWSRJPVXF45pPR+4t6pGP0J9VJJvJvlikue3FUyS1C2pms7J0pt3Wuuq6rgF4x8Bbq+qP2vW9wcOqKr7kjwH+DRwbFX9ZPRxo2d579PpTbruhPWr2o4AwIaTH2g7gqSWzM7OblteeJb3Vr+aJMl+wKuA58yPVdWDwIPN8vVJ7gCeCXx9secZ/QGXajAYLOtxbZhq1hU4HrUSpvHz+hqYDLNOhlmH2t49+CLg1qraPD+Q5KlJ9m2WnwHMAt9tKZ8kqUOmNeX9MuDLwNFJNid5Y3PT2cBlC+7+AuDGJN8CPgW8qap+NI2ckqRum9bswXMWGf+tHYxdAVwx6UySpP5pe/egJElLZmlJknqj1dmD0mJ2/8wcS7G0s3d4dg6pO3ynJUnqDUtLktQblpYkqTcsLUlSb1hakqTesLQkSb1haUmSesPSkiT1hqUlSeoNS0uS1BuWliSpNywtSVJvWFqSpN6wtCRJvWFpSZJ6w9KSJPWGpSVJ6o2plFaSi5JsTbJxZOyPkmxJckNzednIbecluT3JbUleMo2MkqTum9Y7rUuAM3Yw/sGqWttcrgFIcgxwNnBs85i/SLLvlHJKkjpsKqVVVV8CfrTEu58FfKKqHqyq7wG3AydOLJwkqTfaPqb1liQ3NrsPD2rGDgfuGrnP5mZMkrSXS1VNZ0PJGmBdVR3XrB8K/BAo4P3A6qp6Q5IPA1+uqo8397sQuKaqrhh9vrm5uW3BB4PBVH6GvcEJ61e1HaFzNpz8QNsRpL3K7OzstuWZmZmM3rbf1NM0qure+eUkfwWsa1Y3A0eO3PUI4O6dPdfoD7hUg8FgWY9rw1Szrt8yne30SBdeJ75eJ8OskzHJrK3tHkyyemT1lcD8zMKrgbOT7J/kKGAW+Nq080mSumcq77SSXAacAhySZDPwXuCUJGsZ7h7cBPwuQFXdnORy4NvAw8Cbq+qRaeSUJHXbVEqrqs7ZwfCFO7n/+cD5k0skSeqjtmcPSpK0ZJaWJKk3LC1JUm9YWpKk3rC0JEm9YWlJknrD0pIk9YalJUnqDUtLktQblpYkqTcsLUlSb1hakqTesLQkSb1haUmSesPSkiT1hqUlSeoNS0uS1BuWliSpNywtSVJvWFqSpN6YSmkluSjJ1iQbR8b+NMmtSW5MclWSA5vxNUl+luSG5vLRaWSUJHXftN5pXQKcsWDsWuC4qvpl4DvAeSO33VFVa5vLm6aUUZLUcVMprar6EvCjBWOfq6qHm9WvAEdMI4skqb+6ckzrDcD/Hlk/Ksk3k3wxyfPbCiVJ6pZU1XQ2lKwB1lXVcQvG3wUcD7yqqirJ/sABVXVfkucAnwaOraqfjD5ubm5uW/DBYDDp+HuNE9avajtC52w4+YG2I0h7ldnZ2W3LMzMzGb1tv6mnGZHkXODlwOnVtGdVPQg82Cxfn+QO4JnA1xd7ntEfcKkGg8GyHteGqWZdv2U62+mRLrxOfL1OhlknY5JZW9s9mOQM4D8BZ1bVAyPjT02yb7P8DGAW+G47KSVJXTKVd1pJLgNOAQ5Jshl4L8PZgvsD1yYB+EozU/AFwH9O8jDwCPCmqvrRDp9YkrRXmUppVdU5Oxi+cJH7XgFcMdlEkqQ+6srsQUmSdsnSkiT1hqUlSeqNVqe8S31w4MVd+BjAKu7vx2xnaaKW/E4rye8lOWSSYSRJ2plxdg++CNiUZF2SVzdnrpAkaWqWXFpVdSbwdIbnCHwb8P0kH0vygkmFkyRp1FgTMarqvqr6cFWdBLwQOAH4QpJNSd6V5ICJpJQkiWXMHkxyepKLgX8A7gVeB7wWeDbbn6ldkqQVteTZg0kuAM4G5oC/Bv6wqraM3P4V4McrnlCSpMY4U96fALyyqjbs6MaqeijJ8SsTS5KkxxqntP4Y2O6LhZIcBDyxqu4GqKpbVzCbJEnbGeeY1qeBIxaMHQFctXJxJEla3DildXRV3TQ60Kz/0spGkiRpx8Ypra1J/tXoQLN+38pGkiRpx8YprYuAK5K8PMkxSf4t8CngY5OJJknS9saZiPHfgIeAC4AjgbsYFtYHJpBLkqTHWHJpVdXPgT9tLpIkTd1YX02S5GjgWcB2p2uqqotWMpQkSTsyzhkx3gm8B/gW239eqxge75IkaaLGeaf1NuDEqrpxUmEkSdqZcWYP/gxY1hkvklyUZGuSjSNjBye5NsmguT5o5Lbzktye5LYkL1nONiVJe55xSuvdwP9IsjrJPqOXJTz2EuCMBWPvAK6rqlngumadJMcwPDHvsc1j/iLJvmPklCTtocYprUuA3wY2M5z6/hDwcHO9U1X1JeBHC4bPAi5tli8FXjEy/omqerCqvgfcDpw4Rk5J0h5qnGNaR63wtg+tqnsAquqeJE9rxg8HvjJyv83N2KIGg8GyAiz3cW2YXtZVU9qOxuXrdTLMOhm7k3V2dnbR28b5nNY/AjS7A7cVzgRkR5vf2QN29gMuZjAYLOtxbZhq1vVbdn0ftcLX68oz62RMMuuSdw8mOTDJ3wH/j+EuO5KcmeS/LHPb9yZZ3TzPamBrM76Z4Rk35h0B3L3MbUiS9iDjHNP6KMNvLX468M/N2JeBVy9z21cD5zbL5wKfGRk/O8n+SY4CZoGvLXMbkqQ9yDjHtE4HDmu+obgAquoHI8eiFpXkMuAU4JAkm4H3MjyX4eVJ3gjcCfxG85w3J7kc+DbDiR5vrqpHxsgpSdpDjVNac8AhwLZjWUn+5ej6YqrqnEVuOn2R+58PnD9GNknSXmCc3YMfY/jVJKcC+yQ5ieFU9Y9OJJkkSQuM807rvzOchPFh4HEMzzf4l8CfTyCXJEmPMc6U9wI+1FwkSZq6cc7yftpit1XV51cmjiRJixtn9+CFC9afCjye4eeqnrFiiSRJWsQ4uwe3O41TcxLbPwR+utKhJEnakXFmD26n+ezU+cAfrFwcSZIWt+zSarwY+PlKBJEkaVfGmYhxF9ufuHYV8ATg3690KEmSdmSciRivWbD+T8B3quonK5hHkqRFjTMR44uTDCJJ0q6Ms3vwb9jF91oBVNXrdiuRJEmLGGcixv3AK4B9GX42ax/grGb8jpGLJEkTMc4xrWcCv15V/2d+IMnJwLur6iUrnkySpAXGeaf1XOArC8a+Cpy0cnEkSVrcOKX1TeC/JnkiQHN9PnDDJIJJkrTQOKX1W8DzgLkk9zL8UsiTgXMnkEuSpMcYZ8r7JuBXkxwJHAbcU1V3TiqYJEkLjXUapyRPAU4BXlhVdyY5LMkRE0kmSdICSy6tJC8EbgP+HfDuZngW+MgEckmS9BjjTHn/EPDqqrouyY+bsa8CJy5340mOBj45MvQM4D3AgcBvAz9oxt9ZVdcsdzuSpD3DOKW1pqqua5bnz4zxz2M+x3aq6jZgLWz7fq4twFXA64EPVtUFy31uSdKeZ5xjWt9OsvBDxC8CblqhLKcDd1TVP67Q80mS9jDjlNbbgb9NcinwxCR/CVwC/McVynI2cNnI+luS3JjkoiQHrdA2JEk9lqpdngP30TsnhzH8ipKnA3cBH6+qzbsdInk8cDdwbFXdm+RQ4IcMd0O+H1hdVW8Yfczc3Ny24IPBYHcjqHHC+lVtR9AiNpz8QNsRpKmYnZ3dtjwzM5PR25Z0PKo53nQd8JKq+pMVTTf0UuAbVXUvwPx1s+2/Atbt7MGjP+BSDQaDZT2uDVPNun7LdLajsfl6XXlmnYxJZl3S7sGqegQ4aqn3X4ZzGNk1mGT1yG2vBDZOaLuSpB4Zp4TeB3wkydOT7Jtkn/nL7gRIsgp4MXDlyPCfJLkpyY3AqcDv7842JEl7hnGmq3+suX4dj055T7O873IDVNUDwFMWjL12uc8nSdpz7bK0kvyLqvo+w92Dklpy4MXdON54/+sPbzuC9mJLeaf1HeAX5j8/leTKqnrVZGNJkvRYSzkelQXrp0wghyRJu7SU0lr6B7kkSZqgpewe3C/JqTz6jmvhOlX1+UmEkyRp1FJKaytw0cj6fQvWi+HZ2SVJmqhdllZVrZlCDkmSdmlSZ7iQJGnFWVqSpN6wtCRJvWFpSZJ6w9KSJPWGpSVJ6g1LS5LUG5aWJKk3LC1JUm9YWpKk3rC0JEm9YWlJknpjKWd536P5FeaS1B+tl1aSTcBPgUeAh6vq+CQHA58E1gCbgN+sqh+3lVGS1A1d2T14alWtrarjm/V3ANdV1SxwXbMuSdrLdaW0FjoLuLRZvhR4RYtZJEkd0YXSKuBzSa5P8jvN2KFVdQ9Ac/201tJJkjojVdVugOSwqro7ydOAa4H/AFxdVQeO3OfHVXXQ6OPm5ua2BR8MBsve/gnrVy37sStpw8kPtB0B6M7vQ93Vldeq9lyzs7PblmdmZjJ6W+sTMarq7uZ6a5KrgBOBe5Osrqp7kqwGtu7sOUZ/wKUaDAbDx63vxuzBnf0M27JOQ0d+H+quXb0Wp/p63U1mnYxJZm1192CSJyV58vwy8GvARuBq4NzmbucCn2knoSSpS9p+p3UocFWS+Sx/V1V/n2QDcHmSNwJ3Ar/RYkZJUke0WlpV9V3gWTsYvw84ffqJ2rPzDzmvcredJNGN2YOSJC1J27sHJfXMrk99Np09A576bO/kOy1JUm9YWpKk3rC0JEm9YWlJknrD0pIk9YalJUnqDUtLktQblpYkqTcsLUlSb1hakqTesLQkSb1haUmSesPSkiT1hqUlSeoNS0uS1BuWliSpNywtSVJvWFqSpN5otbSSHJnkC0luSXJzkrc243+UZEuSG5rLy9rMKUnqhv1a3v7DwNur6htJngxcn+Ta5rYPVtUFLWaTJHVMq6VVVfcA9zTLP01yC3B4m5kkSd3VmWNaSdYAzwa+2gy9JcmNSS5KclBrwSRJnZGqajsDSQ4AvgicX1VXJjkU+CFQwPuB1VX1htHHzM3NbQs+GAyWve0T1q9a9mMltWfDyQ+0HUETMjs7u215ZmYmo7e1XlpJHgesAz5bVR/Ywe1rgHVVddzo+GhpLcdgMGB2dpYDL96yO08jaS93/+unc0Rj/t+sPljJrAtLq+3ZgwEuBG4ZLawkq0fu9kpg47SzSZK6p+3Zg88DXgvclOSGZuydwDlJ1jLcPbgJ+N124kmSuqTt2YPrgezgpmumnUWS1H2dmT0oSdKuWFqSpN6wtCRJvWFpSZJ6w9KSJPWGpSVJ6g1LS5LUG5aWJKk3LC1JUm9YWpKk3rC0JEm9YWlJknrD0pIk9YalJUnqjba/T0uSem16336+CtYvvq1pfYNy23ynJUnqDUtLktQblpYkqTcsLUlSb1hakqTesLQkSb3R6dJKckaS25LcnuQdbeeRJLWrs5/TSrIv8GHgxcBmYEOSq6vq2+0mk6Tumd7nxXZtw8mTe+7OlhZwInB7VX0XIMkngLOAFSmt2dlZYO/5QJ4k7Qm6vHvwcOCukfXNzZgkaS/V5dLKDsZq6ikkSZ3R5d2Dm4EjR9aPAO6eX5mZmdlRqUmS9mBdfqe1AZhNclSSxwNnA1e3nEmS1KLOllZVPQy8BfgscAtweVXdvBLP3eWp9EkuSrI1ycaRsYOTXJtk0Fwf1GbGJtORSb6Q5JYkNyd5a4ezPiHJ15J8q8n6vq5mnZdk3yTfTLKuWe9k1iSbktyU5IYkX2/Gupr1wCSfSnJr87o9qYtZkxzd/D7nLz9J8rYuZgVI8vvN39XGJJc1f28Ty9rZ0gKoqmuq6plV9YtVdf5KPOfIVPqXAscA5yQ5ZiWee4VcApyxYOwdwHVVNQtc16y37WHg7VX1r4HnAm9ufo9dzPogcFpVPQtYC5yR5Ll0M+u8tzL8z9q8Lmc9tarWVtXxzXpXs/458PdV9UvAsxj+fjuXtapua36fa4HnAA8AV9HBrEkOB34POL6qjgP2ZbhXbHJZq2qvugAnAZ8dWT8POK/tXAsyrgE2jqzfBqxullcDt7WdcQeZP8PwM3WdzgqsAr4B/JuuZmV4/PY64DRgXZdfA8Am4JAFY53LCvwC8D0gXc+6IN+vAf+3q1l5dJb3wQznSKxrMk8sa6ffaU1IH6fSH1pV9wA0109rOc92kqwBng18lY5mbXa33QBsBa6tqs5mBT4E/AHw85GxrmYt4HNJrk/yO81YF7M+A/gBcHGz2/VjSZ5EN7OOOhu4rFnuXNaq2gJcANwJ3APMVdXnmGDWvbG0nEq/gpIcAFwBvK2qftJ2nsVU1SM13N1yBHBikuPazrQjSV4ObK2q69vOskTPq6pfYbi7/c1JXtB2oEXsB/wK8JGqejbwT3Rg99rONBPQzgT+V9tZFtMcqzoLOAo4DHhSktdMcpt7Y2ntdCp9R92bZDVAc7215TwAJHkcw8L626q6shnuZNZ5VXU/8A8Mjxt2MevzgDOTbAI+AZyW5ON0MytVdXdzvZXhcZcT6WbWzcDm5h02wKcYllgXs857KfCNqrq3We9i1hcB36uqH1TVQ8CVwK8ywax7Y2n1cSr91cC5zfK5DI8ftSpJgAuBW6rqAyM3dTHrU5Mc2Cw/keEf2q10MGtVnVdVR1TVGoavzc9X1WvoYNYkT0ry5PllhscyNtLBrFX1feCuJEc3Q6czPCVc57KOOIdHdw1CN7PeCTw3yarm34TTGU5wmVzWtg/ktXTw8GXAd4A7gHe1nWdBtssY7ht+iOH/Dt8IPIXhgflBc31wB3KezHC36o3ADc3lZR3N+svAN5usG4H3NOOdy7og9yk8OhGjc1kZHif6VnO5ef5vqYtZm1xrga83r4NPAwd1OOsq4D5gZmSsq1nfx/A/gRuBvwH2n2TWNBuVJKnz9sbdg5KknrK0JEm9YWlJknrD0pIk9YalJUnqDUtLktQblpYkqTcsLUlSb/x/FyHhxemuu7sAAAAASUVORK5CYII=\n",
=======
      "image/png": "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\n",
>>>>>>> fa46a2984b58a5aad109de50bfb0404c8a999869
      "text/plain": [
       "<Figure size 432x288 with 1 Axes>"
      ]
     },
     "metadata": {
      "needs_background": "light"
     },
     "output_type": "display_data"
    }
   ],
   "source": [
    "## Write your code here\n",
<<<<<<< HEAD
    "titanic_modified['Age'].plot(kind='hist',bins=10)"
=======
    "source_data['Age_imputed'].plot(kind='hist' , bins =10)"
>>>>>>> fa46a2984b58a5aad109de50bfb0404c8a999869
   ]
  },
  {
   "cell_type": "markdown",
   "metadata": {},
   "source": [
    "### Answer the question:\n",
    "\n",
    "__What can you learn from above figure?__ Write your answer below:"
   ]
  },
  {
   "cell_type": "markdown",
   "metadata": {},
   "source": [
    "### How is fare distributed?\n",
    "\n",
    "Looking at the fare distribution of the passengers may also be useful."
   ]
  },
  {
   "cell_type": "code",
<<<<<<< HEAD
   "execution_count": 19,
=======
   "execution_count": 107,
>>>>>>> fa46a2984b58a5aad109de50bfb0404c8a999869
   "metadata": {
    "collapsed": false
   },
   "outputs": [
    {
     "data": {
      "text/plain": [
<<<<<<< HEAD
       "<matplotlib.axes._subplots.AxesSubplot at 0x7fd26fcc7f28>"
      ]
     },
     "execution_count": 19,
=======
       "<matplotlib.axes._subplots.AxesSubplot at 0x7f0210132198>"
      ]
     },
     "execution_count": 107,
>>>>>>> fa46a2984b58a5aad109de50bfb0404c8a999869
     "metadata": {},
     "output_type": "execute_result"
    },
    {
     "data": {
<<<<<<< HEAD
      "image/png": "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\n",
=======
      "image/png": "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\n",
>>>>>>> fa46a2984b58a5aad109de50bfb0404c8a999869
      "text/plain": [
       "<Figure size 432x288 with 1 Axes>"
      ]
     },
     "metadata": {
      "needs_background": "light"
     },
     "output_type": "display_data"
    }
   ],
   "source": [
    "## Write your code here\n",
<<<<<<< HEAD
    "titanic_modified['Fare'].plot(kind='hist',bins=10)"
=======
    "source_data['Fare'].plot(kind='hist', bins = 10)"
>>>>>>> fa46a2984b58a5aad109de50bfb0404c8a999869
   ]
  },
  {
   "cell_type": "markdown",
   "metadata": {},
   "source": [
    "### Answer the question:\n",
    "\n",
    "__What can you learn from above figure?__ Write your answer below:"
   ]
  },
  {
   "cell_type": "code",
   "execution_count": null,
   "metadata": {},
   "outputs": [],
   "source": []
  },
  {
   "cell_type": "markdown",
   "metadata": {},
   "source": [
    "You should ckeck other faetures if you decide to use them in your analysis."
   ]
  },
  {
   "cell_type": "markdown",
   "metadata": {},
   "source": [
    "## Step 3: Feature Transformation/Creation\n",
    "\n",
    "In your analysis, you may need to create some addtional features/columns to further support it. \n",
    "\n",
    "Here, we are going to create a few features.\n",
    "\n",
    "### Creating age group\n",
    "\n",
    "Grouping age into a categorical feature is always a good strategy to deal with your data. In this analysis, we treat the age grouping use the following logic:\n",
    "\n",
    "```python\n",
    "if age < 21:\n",
    "    'child'\n",
    "elif age > 60:\n",
    "    'elder'\n",
    "else:\n",
    "    'adult'\n",
    "```\n",
    "\n",
    "You should call the new column as `Age_group`."
   ]
  },
  {
   "cell_type": "code",
<<<<<<< HEAD
   "execution_count": 26,
   "metadata": {},
   "outputs": [],
   "source": [
    "def age_grp_calc(df):\n",
    "\n",
    "    if (df['Age'] < 21):\n",
    "        return 'child'\n",
    "    elif (df['Age'] > 60):\n",
    "        return 'elder'\n",
    "    else:\n",
    "        return 'adult'\n",
    "\n",
    "#titanic_modified1 = titanic_modified.copy()\n",
    "titanic_modified['Age_Group'] = titanic_modified.apply(age_grp_calc, axis = 1)\n"
=======
   "execution_count": 152,
   "metadata": {
    "collapsed": false
   },
   "outputs": [],
   "source": [
    "## write your code here\n",
    "def my_age(age):\n",
    "    if age < 21:\n",
    "        return'child'\n",
    "    elif age > 60:\n",
    "        return'elder'\n",
    "    else:\n",
    "        return'adult'\n",
    "    "
>>>>>>> fa46a2984b58a5aad109de50bfb0404c8a999869
   ]
  },
  {
   "cell_type": "code",
<<<<<<< HEAD
   "execution_count": 27,
=======
   "execution_count": 153,
>>>>>>> fa46a2984b58a5aad109de50bfb0404c8a999869
   "metadata": {},
   "outputs": [
    {
     "data": {
<<<<<<< HEAD
      "text/html": [
       "<div>\n",
       "<style scoped>\n",
       "    .dataframe tbody tr th:only-of-type {\n",
       "        vertical-align: middle;\n",
       "    }\n",
       "\n",
       "    .dataframe tbody tr th {\n",
       "        vertical-align: top;\n",
       "    }\n",
       "\n",
       "    .dataframe thead th {\n",
       "        text-align: right;\n",
       "    }\n",
       "</style>\n",
       "<table border=\"1\" class=\"dataframe\">\n",
       "  <thead>\n",
       "    <tr style=\"text-align: right;\">\n",
       "      <th></th>\n",
       "      <th>Survived</th>\n",
       "      <th>Pclass</th>\n",
       "      <th>Name</th>\n",
       "      <th>Sex</th>\n",
       "      <th>Age</th>\n",
       "      <th>SibSp</th>\n",
       "      <th>Parch</th>\n",
       "      <th>Ticket</th>\n",
       "      <th>Fare</th>\n",
       "      <th>Embarked</th>\n",
       "      <th>Age_imputed</th>\n",
       "      <th>Embarked_imputed</th>\n",
       "      <th>Age_Group</th>\n",
       "    </tr>\n",
       "    <tr>\n",
       "      <th>PassengerId</th>\n",
       "      <th></th>\n",
       "      <th></th>\n",
       "      <th></th>\n",
       "      <th></th>\n",
       "      <th></th>\n",
       "      <th></th>\n",
       "      <th></th>\n",
       "      <th></th>\n",
       "      <th></th>\n",
       "      <th></th>\n",
       "      <th></th>\n",
       "      <th></th>\n",
       "      <th></th>\n",
       "    </tr>\n",
       "  </thead>\n",
       "  <tbody>\n",
       "    <tr>\n",
       "      <th>1</th>\n",
       "      <td>0</td>\n",
       "      <td>3</td>\n",
       "      <td>Braund, Mr. Owen Harris</td>\n",
       "      <td>male</td>\n",
       "      <td>22.0</td>\n",
       "      <td>1</td>\n",
       "      <td>0</td>\n",
       "      <td>A/5 21171</td>\n",
       "      <td>7.2500</td>\n",
       "      <td>S</td>\n",
       "      <td>22.000000</td>\n",
       "      <td>S</td>\n",
       "      <td>adult</td>\n",
       "    </tr>\n",
       "    <tr>\n",
       "      <th>2</th>\n",
       "      <td>1</td>\n",
       "      <td>1</td>\n",
       "      <td>Cumings, Mrs. John Bradley (Florence Briggs Th...</td>\n",
       "      <td>female</td>\n",
       "      <td>38.0</td>\n",
       "      <td>1</td>\n",
       "      <td>0</td>\n",
       "      <td>PC 17599</td>\n",
       "      <td>71.2833</td>\n",
       "      <td>C</td>\n",
       "      <td>38.000000</td>\n",
       "      <td>C</td>\n",
       "      <td>adult</td>\n",
       "    </tr>\n",
       "    <tr>\n",
       "      <th>3</th>\n",
       "      <td>1</td>\n",
       "      <td>3</td>\n",
       "      <td>Heikkinen, Miss. Laina</td>\n",
       "      <td>female</td>\n",
       "      <td>26.0</td>\n",
       "      <td>0</td>\n",
       "      <td>0</td>\n",
       "      <td>STON/O2. 3101282</td>\n",
       "      <td>7.9250</td>\n",
       "      <td>S</td>\n",
       "      <td>26.000000</td>\n",
       "      <td>S</td>\n",
       "      <td>adult</td>\n",
       "    </tr>\n",
       "    <tr>\n",
       "      <th>4</th>\n",
       "      <td>1</td>\n",
       "      <td>1</td>\n",
       "      <td>Futrelle, Mrs. Jacques Heath (Lily May Peel)</td>\n",
       "      <td>female</td>\n",
       "      <td>35.0</td>\n",
       "      <td>1</td>\n",
       "      <td>0</td>\n",
       "      <td>113803</td>\n",
       "      <td>53.1000</td>\n",
       "      <td>S</td>\n",
       "      <td>35.000000</td>\n",
       "      <td>S</td>\n",
       "      <td>adult</td>\n",
       "    </tr>\n",
       "    <tr>\n",
       "      <th>5</th>\n",
       "      <td>0</td>\n",
       "      <td>3</td>\n",
       "      <td>Allen, Mr. William Henry</td>\n",
       "      <td>male</td>\n",
       "      <td>35.0</td>\n",
       "      <td>0</td>\n",
       "      <td>0</td>\n",
       "      <td>373450</td>\n",
       "      <td>8.0500</td>\n",
       "      <td>S</td>\n",
       "      <td>35.000000</td>\n",
       "      <td>S</td>\n",
       "      <td>adult</td>\n",
       "    </tr>\n",
       "    <tr>\n",
       "      <th>6</th>\n",
       "      <td>0</td>\n",
       "      <td>3</td>\n",
       "      <td>Moran, Mr. James</td>\n",
       "      <td>male</td>\n",
       "      <td>NaN</td>\n",
       "      <td>0</td>\n",
       "      <td>0</td>\n",
       "      <td>330877</td>\n",
       "      <td>8.4583</td>\n",
       "      <td>Q</td>\n",
       "      <td>29.699118</td>\n",
       "      <td>Q</td>\n",
       "      <td>adult</td>\n",
       "    </tr>\n",
       "    <tr>\n",
       "      <th>7</th>\n",
       "      <td>0</td>\n",
       "      <td>1</td>\n",
       "      <td>McCarthy, Mr. Timothy J</td>\n",
       "      <td>male</td>\n",
       "      <td>54.0</td>\n",
       "      <td>0</td>\n",
       "      <td>0</td>\n",
       "      <td>17463</td>\n",
       "      <td>51.8625</td>\n",
       "      <td>S</td>\n",
       "      <td>54.000000</td>\n",
       "      <td>S</td>\n",
       "      <td>adult</td>\n",
       "    </tr>\n",
       "    <tr>\n",
       "      <th>8</th>\n",
       "      <td>0</td>\n",
       "      <td>3</td>\n",
       "      <td>Palsson, Master. Gosta Leonard</td>\n",
       "      <td>male</td>\n",
       "      <td>2.0</td>\n",
       "      <td>3</td>\n",
       "      <td>1</td>\n",
       "      <td>349909</td>\n",
       "      <td>21.0750</td>\n",
       "      <td>S</td>\n",
       "      <td>2.000000</td>\n",
       "      <td>S</td>\n",
       "      <td>child</td>\n",
       "    </tr>\n",
       "    <tr>\n",
       "      <th>9</th>\n",
       "      <td>1</td>\n",
       "      <td>3</td>\n",
       "      <td>Johnson, Mrs. Oscar W (Elisabeth Vilhelmina Berg)</td>\n",
       "      <td>female</td>\n",
       "      <td>27.0</td>\n",
       "      <td>0</td>\n",
       "      <td>2</td>\n",
       "      <td>347742</td>\n",
       "      <td>11.1333</td>\n",
       "      <td>S</td>\n",
       "      <td>27.000000</td>\n",
       "      <td>S</td>\n",
       "      <td>adult</td>\n",
       "    </tr>\n",
       "    <tr>\n",
       "      <th>10</th>\n",
       "      <td>1</td>\n",
       "      <td>2</td>\n",
       "      <td>Nasser, Mrs. Nicholas (Adele Achem)</td>\n",
       "      <td>female</td>\n",
       "      <td>14.0</td>\n",
       "      <td>1</td>\n",
       "      <td>0</td>\n",
       "      <td>237736</td>\n",
       "      <td>30.0708</td>\n",
       "      <td>C</td>\n",
       "      <td>14.000000</td>\n",
       "      <td>C</td>\n",
       "      <td>child</td>\n",
       "    </tr>\n",
       "  </tbody>\n",
       "</table>\n",
       "</div>"
      ],
      "text/plain": [
       "            Survived Pclass  \\\n",
       "PassengerId                   \n",
       "1                  0      3   \n",
       "2                  1      1   \n",
       "3                  1      3   \n",
       "4                  1      1   \n",
       "5                  0      3   \n",
       "6                  0      3   \n",
       "7                  0      1   \n",
       "8                  0      3   \n",
       "9                  1      3   \n",
       "10                 1      2   \n",
       "\n",
       "                                                          Name     Sex   Age  \\\n",
       "PassengerId                                                                    \n",
       "1                                      Braund, Mr. Owen Harris    male  22.0   \n",
       "2            Cumings, Mrs. John Bradley (Florence Briggs Th...  female  38.0   \n",
       "3                                       Heikkinen, Miss. Laina  female  26.0   \n",
       "4                 Futrelle, Mrs. Jacques Heath (Lily May Peel)  female  35.0   \n",
       "5                                     Allen, Mr. William Henry    male  35.0   \n",
       "6                                             Moran, Mr. James    male   NaN   \n",
       "7                                      McCarthy, Mr. Timothy J    male  54.0   \n",
       "8                               Palsson, Master. Gosta Leonard    male   2.0   \n",
       "9            Johnson, Mrs. Oscar W (Elisabeth Vilhelmina Berg)  female  27.0   \n",
       "10                         Nasser, Mrs. Nicholas (Adele Achem)  female  14.0   \n",
       "\n",
       "             SibSp  Parch            Ticket     Fare Embarked  Age_imputed  \\\n",
       "PassengerId                                                                  \n",
       "1                1      0         A/5 21171   7.2500        S    22.000000   \n",
       "2                1      0          PC 17599  71.2833        C    38.000000   \n",
       "3                0      0  STON/O2. 3101282   7.9250        S    26.000000   \n",
       "4                1      0            113803  53.1000        S    35.000000   \n",
       "5                0      0            373450   8.0500        S    35.000000   \n",
       "6                0      0            330877   8.4583        Q    29.699118   \n",
       "7                0      0             17463  51.8625        S    54.000000   \n",
       "8                3      1            349909  21.0750        S     2.000000   \n",
       "9                0      2            347742  11.1333        S    27.000000   \n",
       "10               1      0            237736  30.0708        C    14.000000   \n",
       "\n",
       "            Embarked_imputed Age_Group  \n",
       "PassengerId                             \n",
       "1                          S     adult  \n",
       "2                          C     adult  \n",
       "3                          S     adult  \n",
       "4                          S     adult  \n",
       "5                          S     adult  \n",
       "6                          Q     adult  \n",
       "7                          S     adult  \n",
       "8                          S     child  \n",
       "9                          S     adult  \n",
       "10                         C     child  "
      ]
     },
     "execution_count": 27,
=======
      "text/plain": [
       "Survived              0\n",
       "Pclass                0\n",
       "Name                  0\n",
       "Sex                   0\n",
       "Age                 177\n",
       "SibSp                 0\n",
       "Parch                 0\n",
       "Ticket                0\n",
       "Fare                  0\n",
       "Embarked              2\n",
       "Age_imputed           0\n",
       "Embarked_imputed      0\n",
       "Age_group             0\n",
       "dtype: int64"
      ]
     },
     "execution_count": 153,
>>>>>>> fa46a2984b58a5aad109de50bfb0404c8a999869
     "metadata": {},
     "output_type": "execute_result"
    }
   ],
   "source": [
<<<<<<< HEAD
    "titanic_modified.head(10)"
=======
    "source_data['Age_group'] = source_data['Age_imputed'].apply(my_age)\n",
    "source_data.isna().sum()"
>>>>>>> fa46a2984b58a5aad109de50bfb0404c8a999869
   ]
  },
  {
   "cell_type": "markdown",
   "metadata": {},
   "source": [
    "### Create family and travel_alone\n",
    "\n",
    "In this dataset, we have two features modeling _family_: `sibsp` and `parch`. Maybe in the analysis we only care about if the passenger is traveling alone or not.\n",
    "\n",
    "The logic is as following:\n",
    "1. we are going to combine `sibsp` and `parch` as a new column `family` - just adding them up;\n",
    "2. create a new column `travel_alone` with the following logic:\n",
    "```python \n",
    "if family == 0:\n",
    "    'alone'\n",
    "else:\n",
    "    'family'\n",
    "```\n",
    "Don't forget to test if the calculation is correct."
   ]
  },
  {
   "cell_type": "code",
<<<<<<< HEAD
   "execution_count": 29,
=======
   "execution_count": 154,
>>>>>>> fa46a2984b58a5aad109de50bfb0404c8a999869
   "metadata": {
    "collapsed": false
   },
   "outputs": [
    {
     "data": {
      "text/html": [
       "<div>\n",
       "<style scoped>\n",
       "    .dataframe tbody tr th:only-of-type {\n",
       "        vertical-align: middle;\n",
       "    }\n",
       "\n",
       "    .dataframe tbody tr th {\n",
       "        vertical-align: top;\n",
       "    }\n",
       "\n",
       "    .dataframe thead th {\n",
       "        text-align: right;\n",
       "    }\n",
       "</style>\n",
       "<table border=\"1\" class=\"dataframe\">\n",
       "  <thead>\n",
       "    <tr style=\"text-align: right;\">\n",
       "      <th></th>\n",
       "      <th>Survived</th>\n",
       "      <th>Pclass</th>\n",
       "      <th>Name</th>\n",
       "      <th>Sex</th>\n",
       "      <th>Age</th>\n",
       "      <th>SibSp</th>\n",
       "      <th>Parch</th>\n",
       "      <th>Ticket</th>\n",
       "      <th>Fare</th>\n",
       "      <th>Embarked</th>\n",
       "      <th>Age_imputed</th>\n",
       "      <th>Embarked_imputed</th>\n",
<<<<<<< HEAD
       "      <th>Age_Group</th>\n",
       "      <th>family</th>\n",
       "      <th>travel_alone</th>\n",
=======
       "      <th>Age_group</th>\n",
       "      <th>Family</th>\n",
       "    </tr>\n",
       "    <tr>\n",
       "      <th>PassengerId</th>\n",
       "      <th></th>\n",
       "      <th></th>\n",
       "      <th></th>\n",
       "      <th></th>\n",
       "      <th></th>\n",
       "      <th></th>\n",
       "      <th></th>\n",
       "      <th></th>\n",
       "      <th></th>\n",
       "      <th></th>\n",
       "      <th></th>\n",
       "      <th></th>\n",
       "      <th></th>\n",
       "      <th></th>\n",
       "    </tr>\n",
       "  </thead>\n",
       "  <tbody>\n",
       "    <tr>\n",
       "      <th>887</th>\n",
       "      <td>0</td>\n",
       "      <td>2</td>\n",
       "      <td>Montvila, Rev. Juozas</td>\n",
       "      <td>male</td>\n",
       "      <td>27.0</td>\n",
       "      <td>0</td>\n",
       "      <td>0</td>\n",
       "      <td>211536</td>\n",
       "      <td>13.00</td>\n",
       "      <td>S</td>\n",
       "      <td>27.0</td>\n",
       "      <td>S</td>\n",
       "      <td>adult</td>\n",
       "      <td>0</td>\n",
       "    </tr>\n",
       "    <tr>\n",
       "      <th>888</th>\n",
       "      <td>1</td>\n",
       "      <td>1</td>\n",
       "      <td>Graham, Miss. Margaret Edith</td>\n",
       "      <td>female</td>\n",
       "      <td>19.0</td>\n",
       "      <td>0</td>\n",
       "      <td>0</td>\n",
       "      <td>112053</td>\n",
       "      <td>30.00</td>\n",
       "      <td>S</td>\n",
       "      <td>19.0</td>\n",
       "      <td>S</td>\n",
       "      <td>child</td>\n",
       "      <td>0</td>\n",
       "    </tr>\n",
       "    <tr>\n",
       "      <th>889</th>\n",
       "      <td>0</td>\n",
       "      <td>3</td>\n",
       "      <td>Johnston, Miss. Catherine Helen \"Carrie\"</td>\n",
       "      <td>female</td>\n",
       "      <td>NaN</td>\n",
       "      <td>1</td>\n",
       "      <td>2</td>\n",
       "      <td>W./C. 6607</td>\n",
       "      <td>23.45</td>\n",
       "      <td>S</td>\n",
       "      <td>29.7</td>\n",
       "      <td>S</td>\n",
       "      <td>adult</td>\n",
       "      <td>3</td>\n",
       "    </tr>\n",
       "    <tr>\n",
       "      <th>890</th>\n",
       "      <td>1</td>\n",
       "      <td>1</td>\n",
       "      <td>Behr, Mr. Karl Howell</td>\n",
       "      <td>male</td>\n",
       "      <td>26.0</td>\n",
       "      <td>0</td>\n",
       "      <td>0</td>\n",
       "      <td>111369</td>\n",
       "      <td>30.00</td>\n",
       "      <td>C</td>\n",
       "      <td>26.0</td>\n",
       "      <td>C</td>\n",
       "      <td>adult</td>\n",
       "      <td>0</td>\n",
       "    </tr>\n",
       "    <tr>\n",
       "      <th>891</th>\n",
       "      <td>0</td>\n",
       "      <td>3</td>\n",
       "      <td>Dooley, Mr. Patrick</td>\n",
       "      <td>male</td>\n",
       "      <td>32.0</td>\n",
       "      <td>0</td>\n",
       "      <td>0</td>\n",
       "      <td>370376</td>\n",
       "      <td>7.75</td>\n",
       "      <td>Q</td>\n",
       "      <td>32.0</td>\n",
       "      <td>Q</td>\n",
       "      <td>adult</td>\n",
       "      <td>0</td>\n",
       "    </tr>\n",
       "  </tbody>\n",
       "</table>\n",
       "</div>"
      ],
      "text/plain": [
       "            Survived Pclass                                      Name     Sex  \\\n",
       "PassengerId                                                                     \n",
       "887                0      2                     Montvila, Rev. Juozas    male   \n",
       "888                1      1              Graham, Miss. Margaret Edith  female   \n",
       "889                0      3  Johnston, Miss. Catherine Helen \"Carrie\"  female   \n",
       "890                1      1                     Behr, Mr. Karl Howell    male   \n",
       "891                0      3                       Dooley, Mr. Patrick    male   \n",
       "\n",
       "              Age  SibSp  Parch      Ticket   Fare Embarked  Age_imputed  \\\n",
       "PassengerId                                                                \n",
       "887          27.0      0      0      211536  13.00        S         27.0   \n",
       "888          19.0      0      0      112053  30.00        S         19.0   \n",
       "889           NaN      1      2  W./C. 6607  23.45        S         29.7   \n",
       "890          26.0      0      0      111369  30.00        C         26.0   \n",
       "891          32.0      0      0      370376   7.75        Q         32.0   \n",
       "\n",
       "            Embarked_imputed Age_group  Family  \n",
       "PassengerId                                     \n",
       "887                        S     adult       0  \n",
       "888                        S     child       0  \n",
       "889                        S     adult       3  \n",
       "890                        C     adult       0  \n",
       "891                        Q     adult       0  "
      ]
     },
     "execution_count": 154,
     "metadata": {},
     "output_type": "execute_result"
    }
   ],
   "source": [
    "## write your code here\n",
    "source_data['Family'] = source_data['SibSp'] + source_data['Parch']\n",
    "source_data.tail()"
   ]
  },
  {
   "cell_type": "code",
   "execution_count": 155,
   "metadata": {},
   "outputs": [
    {
     "data": {
      "text/html": [
       "<div>\n",
       "<style scoped>\n",
       "    .dataframe tbody tr th:only-of-type {\n",
       "        vertical-align: middle;\n",
       "    }\n",
       "\n",
       "    .dataframe tbody tr th {\n",
       "        vertical-align: top;\n",
       "    }\n",
       "\n",
       "    .dataframe thead th {\n",
       "        text-align: right;\n",
       "    }\n",
       "</style>\n",
       "<table border=\"1\" class=\"dataframe\">\n",
       "  <thead>\n",
       "    <tr style=\"text-align: right;\">\n",
       "      <th></th>\n",
       "      <th>Survived</th>\n",
       "      <th>Pclass</th>\n",
       "      <th>Name</th>\n",
       "      <th>Sex</th>\n",
       "      <th>Age</th>\n",
       "      <th>SibSp</th>\n",
       "      <th>Parch</th>\n",
       "      <th>Ticket</th>\n",
       "      <th>Fare</th>\n",
       "      <th>Embarked</th>\n",
       "      <th>Age_imputed</th>\n",
       "      <th>Embarked_imputed</th>\n",
       "      <th>Age_group</th>\n",
       "      <th>Family</th>\n",
       "      <th>Travel_alone</th>\n",
>>>>>>> fa46a2984b58a5aad109de50bfb0404c8a999869
       "    </tr>\n",
       "    <tr>\n",
       "      <th>PassengerId</th>\n",
       "      <th></th>\n",
       "      <th></th>\n",
       "      <th></th>\n",
       "      <th></th>\n",
       "      <th></th>\n",
       "      <th></th>\n",
       "      <th></th>\n",
       "      <th></th>\n",
       "      <th></th>\n",
       "      <th></th>\n",
       "      <th></th>\n",
       "      <th></th>\n",
       "      <th></th>\n",
       "      <th></th>\n",
       "      <th></th>\n",
       "    </tr>\n",
       "  </thead>\n",
       "  <tbody>\n",
       "    <tr>\n",
       "      <th>1</th>\n",
       "      <td>0</td>\n",
       "      <td>3</td>\n",
       "      <td>Braund, Mr. Owen Harris</td>\n",
       "      <td>male</td>\n",
       "      <td>22.0</td>\n",
       "      <td>1</td>\n",
       "      <td>0</td>\n",
       "      <td>A/5 21171</td>\n",
       "      <td>7.2500</td>\n",
       "      <td>S</td>\n",
       "      <td>22.0</td>\n",
       "      <td>S</td>\n",
       "      <td>adult</td>\n",
       "      <td>1</td>\n",
       "      <td>family</td>\n",
       "    </tr>\n",
       "    <tr>\n",
       "      <th>2</th>\n",
       "      <td>1</td>\n",
       "      <td>1</td>\n",
       "      <td>Cumings, Mrs. John Bradley (Florence Briggs Th...</td>\n",
       "      <td>female</td>\n",
       "      <td>38.0</td>\n",
       "      <td>1</td>\n",
       "      <td>0</td>\n",
       "      <td>PC 17599</td>\n",
       "      <td>71.2833</td>\n",
       "      <td>C</td>\n",
       "      <td>38.0</td>\n",
       "      <td>C</td>\n",
       "      <td>adult</td>\n",
       "      <td>1</td>\n",
       "      <td>family</td>\n",
       "    </tr>\n",
       "    <tr>\n",
       "      <th>3</th>\n",
       "      <td>1</td>\n",
       "      <td>3</td>\n",
       "      <td>Heikkinen, Miss. Laina</td>\n",
       "      <td>female</td>\n",
       "      <td>26.0</td>\n",
       "      <td>0</td>\n",
       "      <td>0</td>\n",
       "      <td>STON/O2. 3101282</td>\n",
       "      <td>7.9250</td>\n",
       "      <td>S</td>\n",
       "      <td>26.0</td>\n",
       "      <td>S</td>\n",
       "      <td>adult</td>\n",
       "      <td>0</td>\n",
       "      <td>alone</td>\n",
       "    </tr>\n",
       "    <tr>\n",
       "      <th>4</th>\n",
       "      <td>1</td>\n",
       "      <td>1</td>\n",
       "      <td>Futrelle, Mrs. Jacques Heath (Lily May Peel)</td>\n",
       "      <td>female</td>\n",
       "      <td>35.0</td>\n",
       "      <td>1</td>\n",
       "      <td>0</td>\n",
       "      <td>113803</td>\n",
       "      <td>53.1000</td>\n",
       "      <td>S</td>\n",
       "      <td>35.0</td>\n",
       "      <td>S</td>\n",
       "      <td>adult</td>\n",
       "      <td>1</td>\n",
       "      <td>family</td>\n",
       "    </tr>\n",
       "    <tr>\n",
       "      <th>5</th>\n",
       "      <td>0</td>\n",
       "      <td>3</td>\n",
       "      <td>Allen, Mr. William Henry</td>\n",
       "      <td>male</td>\n",
       "      <td>35.0</td>\n",
       "      <td>0</td>\n",
       "      <td>0</td>\n",
       "      <td>373450</td>\n",
       "      <td>8.0500</td>\n",
       "      <td>S</td>\n",
       "      <td>35.0</td>\n",
       "      <td>S</td>\n",
       "      <td>adult</td>\n",
       "      <td>0</td>\n",
       "      <td>alone</td>\n",
       "    </tr>\n",
       "  </tbody>\n",
       "</table>\n",
       "</div>"
      ],
      "text/plain": [
       "            Survived Pclass  \\\n",
       "PassengerId                   \n",
       "1                  0      3   \n",
       "2                  1      1   \n",
       "3                  1      3   \n",
       "4                  1      1   \n",
       "5                  0      3   \n",
       "\n",
       "                                                          Name     Sex   Age  \\\n",
       "PassengerId                                                                    \n",
       "1                                      Braund, Mr. Owen Harris    male  22.0   \n",
       "2            Cumings, Mrs. John Bradley (Florence Briggs Th...  female  38.0   \n",
       "3                                       Heikkinen, Miss. Laina  female  26.0   \n",
       "4                 Futrelle, Mrs. Jacques Heath (Lily May Peel)  female  35.0   \n",
       "5                                     Allen, Mr. William Henry    male  35.0   \n",
       "\n",
       "             SibSp  Parch            Ticket     Fare Embarked  Age_imputed  \\\n",
       "PassengerId                                                                  \n",
       "1                1      0         A/5 21171   7.2500        S         22.0   \n",
       "2                1      0          PC 17599  71.2833        C         38.0   \n",
       "3                0      0  STON/O2. 3101282   7.9250        S         26.0   \n",
       "4                1      0            113803  53.1000        S         35.0   \n",
       "5                0      0            373450   8.0500        S         35.0   \n",
       "\n",
<<<<<<< HEAD
       "            Embarked_imputed Age_Group  family travel_alone  \n",
=======
       "            Embarked_imputed Age_group  Family Travel_alone  \n",
>>>>>>> fa46a2984b58a5aad109de50bfb0404c8a999869
       "PassengerId                                                  \n",
       "1                          S     adult       1       family  \n",
       "2                          C     adult       1       family  \n",
       "3                          S     adult       0        alone  \n",
       "4                          S     adult       1       family  \n",
       "5                          S     adult       0        alone  "
      ]
     },
<<<<<<< HEAD
     "execution_count": 29,
=======
     "execution_count": 155,
>>>>>>> fa46a2984b58a5aad109de50bfb0404c8a999869
     "metadata": {},
     "output_type": "execute_result"
    }
   ],
   "source": [
<<<<<<< HEAD
    "## write your code here\n",
    "titanic_modified['family'] = titanic_modified['SibSp'] + titanic_modified['Parch']\n",
    "\n",
    "titanic_modified['travel_alone'] = ['alone' if x == 0 else 'family' for x in titanic_modified['family']]\n",
    "titanic_modified.head(5)"
=======
    "source_data['Travel_alone'] = source_data['Family'].apply(lambda x : 'alone' if x == 0 else 'family' )\n",
    "source_data.head()"
>>>>>>> fa46a2984b58a5aad109de50bfb0404c8a999869
   ]
  },
  {
   "cell_type": "markdown",
   "metadata": {},
   "source": [
    "You should create additional features if needed."
   ]
  },
  {
   "cell_type": "markdown",
   "metadata": {},
   "source": [
    "## Step 4: Answer Your Analytical Question\n",
    "\n",
    "Since we have gained enough understanding of the dataset, now we can move forward toward the analytical questions you defined earlier. _Do not hesitate to change your analytical question if needed._\n",
    "\n",
    "__You should break down this step based on your analytical questions. __\n",
    "\n",
    "Below is some example I try to answer my example analytical questions."
   ]
  },
  {
   "cell_type": "code",
   "execution_count": 33,
   "metadata": {
    "collapsed": false
   },
   "outputs": [
    {
     "data": {
      "text/plain": [
       "<matplotlib.axes._subplots.AxesSubplot at 0x7fd26fb47198>"
      ]
     },
     "execution_count": 33,
     "metadata": {},
     "output_type": "execute_result"
    },
    {
     "data": {
      "image/png": "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\n",
      "text/plain": [
       "<Figure size 432x288 with 1 Axes>"
      ]
     },
     "metadata": {
      "needs_background": "light"
     },
     "output_type": "display_data"
    }
   ],
   "source": [
    "# sex vs. survived\n",
    "titanic_modified.groupby('Sex')['Survived'].value_counts().plot(kind='bar')"
   ]
  },
  {
   "cell_type": "markdown",
   "metadata": {},
   "source": [
    "### What can be learned - This is required for all your analytical questions\n",
    "\n",
    "Based on above visualization, it is clear that the _survival rate_ of _female_ passengers are much higher (>70%). \n",
    "\n",
    "Based on the lower visualization, it is clear that in terms of the absolute number, female passengers survived more than male ones, despite the larger number of male passengers on the Titanic.\n",
    "\n",
    "These findings possibly suggest that the passengers on the Titanic are very __chivalrous__."
   ]
  },
  {
   "cell_type": "markdown",
   "metadata": {},
   "source": [
    "### Start Your Own Analysis\n",
    "\n",
    "Now you can start your own analysis below."
   ]
  },
  {
   "cell_type": "code",
   "execution_count": 40,
   "metadata": {
    "collapsed": true
   },
   "outputs": [
    {
     "data": {
      "text/plain": [
       "<matplotlib.axes._subplots.AxesSubplot at 0x7fd26f5884e0>"
      ]
     },
     "execution_count": 40,
     "metadata": {},
     "output_type": "execute_result"
    },
    {
     "data": {
      "image/png": "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\n",
      "text/plain": [
       "<Figure size 432x288 with 1 Axes>"
      ]
     },
     "metadata": {
      "needs_background": "light"
     },
     "output_type": "display_data"
    }
   ],
   "source": [
    "# Pclass vs Survived\n",
    "titanic_modified.groupby('Pclass')['Survived'].value_counts().plot(kind='bar')\n",
    "\n",
    "# Looking at the chart below we can say that the survival chances of Pclass = 3 is very low when compared to Pclass = 1 or 2."
   ]
  },
  {
   "cell_type": "code",
   "execution_count": 43,
   "metadata": {},
   "outputs": [
    {
     "data": {
      "text/plain": [
       "<matplotlib.axes._subplots.AxesSubplot at 0x7fd26f531a20>"
      ]
     },
     "execution_count": 43,
     "metadata": {},
     "output_type": "execute_result"
    },
    {
     "data": {
      "image/png": "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\n",
      "text/plain": [
       "<Figure size 432x288 with 1 Axes>"
      ]
     },
     "metadata": {
      "needs_background": "light"
     },
     "output_type": "display_data"
    }
   ],
   "source": [
    "# Travel_Alone vs Survived\n",
    "titanic_modified.groupby('travel_alone')['Survived'].value_counts().plot(kind='bar')\n",
    "\n",
    "# The travel_alone column is based on 'sibsp' and 'parch' columns. It gives us the information whether a passenger \n",
    "# travelled alone or with 1 or more relatives (family). The bar plot below shows us that the survival rate of a \n",
    "# passenger is higher if he/she travelled with family which means that if a passenger is travelling alone his chances of survival are low."
   ]
  },
  {
   "cell_type": "markdown",
   "metadata": {},
   "source": [
    "### What can you learn from your analysis, in response toward your analytical question?\n",
    "\n",
    "Put your analysis here"
   ]
  },
  {
   "cell_type": "markdown",
   "metadata": {},
   "source": [
    "## Step 5: Next Steps and Wrap Up\n",
    "\n",
    "In this section, you should discuss the next steps of the analysis. The next steps should be very relevant to the dataset (and your analytical questions), but might not be feasible because of the time/data/technique constraints.\n",
    "\n",
    "### An Example Next Step\n",
    "\n",
    "Based on my analytical questions, a natural next step is to analyze how can we use these features (including `Sex`, `Age_group`, ...) to __predict__ whether a passenger would survive or not. This would be the best extension of the analysis I have done so far. However, due to the data limitation (missing a _testing_ dataset to evaluate the predictive model(s)), and the limitations of the predictive modeling techniques (which I will learn in BA 545 next semester), they are not feasible at this point"
   ]
  },
  {
   "cell_type": "markdown",
   "metadata": {},
   "source": [
    "### Next Steps\n",
    "\n",
    "Provide your next steps here."
   ]
  },
  {
   "cell_type": "markdown",
   "metadata": {},
   "source": [
    "To wrap up, you should provide a few things, including __lessons learned__ and __technical challenges__. These parts are _optional_ in this analysis, but are __required__ in your final project.\n",
    "\n",
    "- __lessons learned__: these are the generic lessons you have learned in the analysis, such as how to write proper python code (for different analytical purposes), how to write up your analytical results, etc.\n",
    "- __technocal challenges__: during your analysis, you must have encountered and overcame some technical challenges, such as questions in writing code/handling errors, ...\n",
    "\n",
    "Writing these two parts would help you further your understanding toward data analysis."
   ]
  },
  {
   "cell_type": "markdown",
   "metadata": {},
   "source": [
    "### Wrapping Up\n",
    "\n",
    "Good job!\n",
    "\n",
    "In this part, you have completed some _descriptive analyses_ using a famous dataset from scratch. This is a __preview__ of your final project, and you should consider using this notebook as a _template_ for your final project analysis."
   ]
  },
  {
   "cell_type": "code",
   "execution_count": null,
   "metadata": {
    "collapsed": true
   },
   "outputs": [],
   "source": []
  }
 ],
 "metadata": {
  "kernelspec": {
   "display_name": "Python 3",
   "language": "python",
   "name": "python3"
  },
  "language_info": {
   "codemirror_mode": {
    "name": "ipython",
    "version": 3
   },
   "file_extension": ".py",
   "mimetype": "text/x-python",
   "name": "python",
   "nbconvert_exporter": "python",
   "pygments_lexer": "ipython3",
   "version": "3.6.7"
  }
 },
 "nbformat": 4,
 "nbformat_minor": 2
}
